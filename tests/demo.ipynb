{
 "cells": [
  {
   "cell_type": "markdown",
   "metadata": {},
   "source": [
    "## networkz"
   ]
  },
  {
   "attachments": {},
   "cell_type": "markdown",
   "metadata": {},
   "source": [
    "Nettverksanalyse gjort klar for bruk med geopandas.\n",
    "\n",
    "Pakken inneholder tre former for nettverksanalyse:\n",
    "- od_cost_matrix: rask beregning av reisetid/distanse\n",
    "- shortest_path: treigere variant som returnerer rutene som linjer\n",
    "- service_area: beregner området som kan nås innen en eller flere reisetider/distanser"
   ]
  },
  {
   "cell_type": "code",
   "execution_count": null,
   "metadata": {},
   "outputs": [],
   "source": [
    "import geopandas as gpd\n",
    "import pandas as pd\n",
    "import matplotlib.pyplot as plt\n",
    "\n",
    "import os\n",
    "while \"networkz\" not in os.listdir():\n",
    "    os.chdir(\"../\")\n",
    "\n",
    "pd.options.mode.chained_assignment = None # ignorerer midlertidig SettingWithCopyWarning\n",
    "\n",
    "import networkz as nz\n",
    "nz.__version__"
   ]
  },
  {
   "cell_type": "code",
   "execution_count": null,
   "metadata": {},
   "outputs": [],
   "source": [
    "# statisk eller interaktiv kartlegging. Interaktivt tar mer tid/plass, så går for statisk her.\n",
    "statisk = True\n",
    "def kartlegg(gdf, kolonne=None, statisk=statisk, legend=True, **qwargs):\n",
    "    if statisk:\n",
    "        fig, ax = plt.subplots(1, figsize=(9, 9))\n",
    "        ax.set_axis_off()\n",
    "        gdf.plot(column=kolonne, ax=ax, **qwargs)\n",
    "    else:\n",
    "        display(gdf.explore(column=kolonne, **qwargs))"
   ]
  },
  {
   "attachments": {},
   "cell_type": "markdown",
   "metadata": {},
   "source": [
    "Aller først må man ha en GeoDataFrame med punktdata.\n",
    "\n",
    "Her er 1000 tilfeldige adresser i Oslo:"
   ]
  },
  {
   "cell_type": "code",
   "execution_count": null,
   "metadata": {},
   "outputs": [],
   "source": [
    "punkter = nz.les_geopandas(\"ssb-prod-dapla-felles-data-delt/GIS/Vegnett_benchmark/tilfeldige_adresser_100/tilfeldige_adresser_100.parquet\")\n",
    "punkter"
   ]
  },
  {
   "cell_type": "markdown",
   "metadata": {},
   "source": [
    "Man starter med Graf:"
   ]
  },
  {
   "cell_type": "code",
   "execution_count": null,
   "metadata": {},
   "outputs": [],
   "source": [
    "G = nz.Graf()\n",
    "G"
   ]
  },
  {
   "attachments": {},
   "cell_type": "markdown",
   "metadata": {},
   "source": [
    "Nå er det nyeste klargjorte vegnettverket lest inn fra fellesbøtta i Dapla.\n",
    "\n",
    "Parametrene som er printet over kan endres. Mer om det under.\n",
    "\n",
    "Først demo. Velger ut Oslo for å få det mye raskere:"
   ]
  },
  {
   "cell_type": "code",
   "execution_count": null,
   "metadata": {},
   "outputs": [],
   "source": [
    "G = nz.Graf(kommuner=\"0301\")"
   ]
  },
  {
   "cell_type": "code",
   "execution_count": null,
   "metadata": {},
   "outputs": [],
   "source": [
    "# lager først to små utvalg\n",
    "n = 10\n",
    "fra = punkter.sample(n).reset_index(drop=True)\n",
    "fra[\"ny_idx\"] =  [\"fra\"+str(x) for x in range(n)] # string-index for illustrasjons skyld\n",
    "til = punkter.sample(n).reset_index(drop=True)\n",
    "til[\"ny_idx\"] =  [\"til\"+str(x) for x in range(n)]"
   ]
  },
  {
   "cell_type": "markdown",
   "metadata": {},
   "source": [
    "### shortest_path\n",
    "Korteste rute mellom ett/flere startpunkter til ett/flere sluttpunkter."
   ]
  },
  {
   "cell_type": "code",
   "execution_count": null,
   "metadata": {},
   "outputs": [],
   "source": [
    "korteste_ruter = G.shortest_path(startpunkter = fra,\n",
    "                                 sluttpunkter = til,\n",
    "                                 id_kolonne = \"ny_idx\")\n",
    "\n",
    "korteste_ruter"
   ]
  },
  {
   "cell_type": "code",
   "execution_count": null,
   "metadata": {},
   "outputs": [],
   "source": [
    "kartlegg(korteste_ruter[~korteste_ruter.minutter.isna()])"
   ]
  },
  {
   "attachments": {},
   "cell_type": "markdown",
   "metadata": {},
   "source": [
    "tell_opp=True for å telle antall ganger hver veglenke blir brukt:"
   ]
  },
  {
   "cell_type": "code",
   "execution_count": null,
   "metadata": {},
   "outputs": [],
   "source": [
    "relevante_veglenker = G.shortest_path(startpunkter = punkter.sample(150), \n",
    "                                      sluttpunkter = punkter.sample(150),\n",
    "                                      tell_opp=True)"
   ]
  },
  {
   "cell_type": "code",
   "execution_count": null,
   "metadata": {},
   "outputs": [],
   "source": [
    "fig, ax = plt.subplots(1, figsize=(15, 15))\n",
    "ax.set_axis_off()\n",
    "ax.set_title(\"Antall ganger hver veglenke ble brukt\", fontsize = 18)\n",
    "relevante_veglenker[\"geometry\"] = relevante_veglenker.buffer(20)\n",
    "relevante_veglenker.plot(\"antall\", scheme=\"NaturalBreaks\", cmap=\"RdPu\", k=7, legend=True, alpha=0.8, ax=ax)"
   ]
  },
  {
   "attachments": {},
   "cell_type": "markdown",
   "metadata": {},
   "source": [
    "radvis=True for å beregne fra startpunkt 1 til sluttpunkt 1, fra startpunkt 2 til sluttpunkt 2 osv:"
   ]
  },
  {
   "cell_type": "code",
   "execution_count": null,
   "metadata": {},
   "outputs": [],
   "source": [
    "korteste_ruter = G.shortest_path(startpunkter = fra, sluttpunkter = til, id_kolonne = \"ny_idx\",\n",
    "                                 radvis=True)\n",
    "\n",
    "korteste_ruter"
   ]
  },
  {
   "cell_type": "markdown",
   "metadata": {},
   "source": [
    "### od_cost_matrix: \n",
    "\n",
    "Rask beregning av reisetid/distanse."
   ]
  },
  {
   "cell_type": "code",
   "execution_count": null,
   "metadata": {},
   "outputs": [],
   "source": [
    "od = G.od_cost_matrix(startpunkter = punkter, \n",
    "                      sluttpunkter = punkter, \n",
    "                      id_kolonne = \"idx\",\n",
    "                      )\n",
    "od"
   ]
  },
  {
   "cell_type": "markdown",
   "metadata": {},
   "source": [
    "dist_node_start og dist_node_slutt er avstanden til nærmeste node fra start- og sluttpunktene. Kjekt for feilsøking.\n",
    "\n",
    "Man kan også få returnert rette linjer:"
   ]
  },
  {
   "cell_type": "code",
   "execution_count": null,
   "metadata": {},
   "outputs": [],
   "source": [
    "od = G.od_cost_matrix(startpunkter = punkter.sample(1), \n",
    "                      sluttpunkter = punkter, \n",
    "                      id_kolonne = \"idx\",\n",
    "                      linjer=True)\n",
    "kartlegg(od, \"minutter\", scheme=\"Quantiles\", legend=True)"
   ]
  },
  {
   "attachments": {},
   "cell_type": "markdown",
   "metadata": {},
   "source": [
    "radvis=True for å beregne fra ett til ett punkt av gangen."
   ]
  },
  {
   "cell_type": "code",
   "execution_count": null,
   "metadata": {},
   "outputs": [],
   "source": [
    "od = G.od_cost_matrix(startpunkter = fra, sluttpunkter = til, id_kolonne = \"ny_idx\",\n",
    "                      radvis = True)\n",
    "od"
   ]
  },
  {
   "attachments": {},
   "cell_type": "markdown",
   "metadata": {},
   "source": [
    "Med destination_count=1 får man bare raskeste/korteste reise for hvert startpunkt (beklager forresten blanding av norske og engelske parametre. Mange av parametrene er bare kopiert fra ArcGIS Pro)."
   ]
  },
  {
   "cell_type": "code",
   "execution_count": null,
   "metadata": {},
   "outputs": [],
   "source": [
    "od = G.od_cost_matrix(startpunkter = fra, sluttpunkter = til, id_kolonne = \"ny_idx\",\n",
    "                      destination_count = 1,\n",
    "                      )\n",
    "od"
   ]
  },
  {
   "attachments": {},
   "cell_type": "markdown",
   "metadata": {},
   "source": [
    "Bruk cutoff for å kun få reisene under en viss kostnad: "
   ]
  },
  {
   "cell_type": "code",
   "execution_count": null,
   "metadata": {},
   "outputs": [],
   "source": [
    "od = G.od_cost_matrix(startpunkter = punkter, sluttpunkter = punkter, id_kolonne = \"idx\",\n",
    "                      cutoff = 5\n",
    "                      )\n",
    "od"
   ]
  },
  {
   "attachments": {},
   "cell_type": "markdown",
   "metadata": {},
   "source": [
    "Man kan få både meter og minutter (OBS: tar dobbelt så lang tid). "
   ]
  },
  {
   "cell_type": "code",
   "execution_count": null,
   "metadata": {},
   "outputs": [],
   "source": [
    "G.kostnad = [\"minutter\", \"meter\"]\n",
    "\n",
    "od = G.od_cost_matrix(startpunkter = punkter,\n",
    "                      sluttpunkter = punkter,\n",
    "                      id_kolonne = \"idx\")\n",
    "od"
   ]
  },
  {
   "cell_type": "code",
   "execution_count": null,
   "metadata": {},
   "outputs": [],
   "source": [
    "G.kostnad = \"minutter\""
   ]
  },
  {
   "attachments": {},
   "cell_type": "markdown",
   "metadata": {},
   "source": [
    "### service_area\n",
    "Finn området som kan nås innen en viss tid/distanse/annet (impedance, som det heter i ArcGIS Pro).\n",
    "\n",
    "Her får man området som kan nås innen fem minutter for fem tilfeldige punkter:"
   ]
  },
  {
   "cell_type": "code",
   "execution_count": null,
   "metadata": {},
   "outputs": [],
   "source": [
    "service_areas = G.service_area(startpunkter = punkter.sample(5),\n",
    "                               impedance = 5, # antall minutter/meter\n",
    "                               id_kolonne = \"idx\")\n",
    "service_areas"
   ]
  },
  {
   "cell_type": "markdown",
   "metadata": {},
   "source": [
    "Sånn er ett av områdene ut:"
   ]
  },
  {
   "cell_type": "code",
   "execution_count": null,
   "metadata": {},
   "outputs": [],
   "source": [
    "service_areas.sample(1).plot()"
   ]
  },
  {
   "attachments": {},
   "cell_type": "markdown",
   "metadata": {},
   "source": [
    "Man kan også ha flere impedances:"
   ]
  },
  {
   "cell_type": "code",
   "execution_count": null,
   "metadata": {},
   "outputs": [],
   "source": [
    "service_areas = G.service_area(startpunkter = punkter.sample(1),\n",
    "                               impedance = [10,9,8,7,6,5,4,3,2,1], # antall minutter/meter/annet\n",
    "                               id_kolonne=\"idx\")\n",
    "kartlegg(service_areas, G.kostnad)"
   ]
  },
  {
   "attachments": {},
   "cell_type": "markdown",
   "metadata": {},
   "source": [
    "### Sykkel og fot\n",
    "\n",
    "Reisetider for sykkel og til fots er basert på et eget vegnett som inkluderer fortau, stier og lignende. \n",
    "\n",
    "Farten er satt til 4 km/t til fots og 20 km/t for sykkel. I tillegg gis det tidsstraff for oppoverbakker og tidsbonus for nedoverbakker.\n",
    "\n",
    "La oss sammenligne reisetidene:"
   ]
  },
  {
   "cell_type": "code",
   "execution_count": null,
   "metadata": {},
   "outputs": [],
   "source": [
    "import pandas as pd\n",
    "resultater = pd.DataFrame()\n",
    "for kjoretoy in [\"fot\", \"sykkel\", \"bil\"]:\n",
    "    \n",
    "    G = nz.Graf(kjoretoy=kjoretoy, kostnad=[\"minutter\", \"meter\"], kommuner=\"0301\")\n",
    "\n",
    "    od = G.od_cost_matrix(startpunkter = fra, sluttpunkter = til, id_kolonne = \"idx\")\n",
    "    \n",
    "    od[\"kjoretoy\"] = kjoretoy\n",
    "    \n",
    "    resultater = pd.concat([resultater, od], ignore_index=True)\n",
    "\n",
    "resultater[\"km\"] = resultater.meter/1000\n",
    "resultater[\"km_t\"] = (resultater.meter/1000) / (resultater.minutter/60)\n",
    "\n",
    "gruppert = resultater.groupby(\"kjoretoy\").agg(minutter_mean = (\"minutter\", \"mean\"),\n",
    "                                              km_mean = (\"km\", \"mean\"),\n",
    "                                              km_t_mean = (\"km_t\", \"mean\"))\n",
    "gruppert"
   ]
  },
  {
   "attachments": {},
   "cell_type": "markdown",
   "metadata": {},
   "source": [
    "Med sykkel og til fots kan man ferdes en del steder det ikke er lov å kjøre. Det er også noen steder det kun regnes som lov/mulig å gå (sti, gangveg, fortau) eller sykle (sykkelfelt, sykkelveg).\n",
    "\n",
    "Når sykkel/fot, blir raskeste rute gjerne nærmere korteste rute. Fordi farten er jevnere, siden sykler og mennesker, heldigvis, som regel ikke kommer opp i livsfarlige hastigheter som 60 og 80 km/t. \n",
    "\n",
    "Rutene for sykkel og fotgjengere følger derfor oftere mindre gater/veger enn større motorveier o.l.\n",
    "\n",
    "Sykkelrutene følger også oftere de større gatene enn fotrutene. Det er fordi stigning påvirker reisetiden mer for syklister enn forgjengere."
   ]
  },
  {
   "cell_type": "code",
   "execution_count": null,
   "metadata": {},
   "outputs": [],
   "source": [
    "import pandas as pd\n",
    "utvalg = punkter.sample(150)\n",
    "resultater = pd.DataFrame()\n",
    "for kjoretoy in [\"bil\", \"sykkel\", \"fot\"]:\n",
    "    \n",
    "    G = nz.Graf(kjoretoy=kjoretoy, kostnad=\"meter\", kommuner=\"0301\")\n",
    "    \n",
    "    mest_brukte_gater = G.shortest_path(startpunkter = utvalg, sluttpunkter = utvalg, \n",
    "                                     tell_opp=True)\n",
    "    \n",
    "    mest_brukte_gater[\"geometry\"] = mest_brukte_gater.buffer(7)\n",
    "    \n",
    "    fig, ax = plt.subplots(1, figsize=(10, 10))\n",
    "    ax.set_axis_off()\n",
    "    ax.set_title(f\"Antall ganger brukt. Kjøretøy: {kjoretoy}\", fontsize = 16)\n",
    "    mest_brukte_gater.plot(\"antall\", scheme=\"NaturalBreaks\", cmap=\"RdPu\", k=7, legend=True, alpha=1, ax=ax)"
   ]
  },
  {
   "attachments": {},
   "cell_type": "markdown",
   "metadata": {},
   "source": [
    "Dataene for sykkel/fot er ikke perfekte. La oss ta en nærmere titt på området rundt Akersveien:"
   ]
  },
  {
   "cell_type": "code",
   "execution_count": null,
   "metadata": {},
   "outputs": [],
   "source": [
    "from shapely.wkt import loads\n",
    "akersveien = gpd.GeoDataFrame({\"geometry\": gpd.GeoSeries(loads(\"POINT (10.7476913 59.9222196)\"))}, crs=4326).to_crs(25833)\n",
    "akersveien[\"geometry\"] = akersveien.buffer(500)\n",
    "punkter_rundt_akersveien = punkter.sjoin(akersveien)\n",
    "\n",
    "resultater = pd.DataFrame()\n",
    "for kjoretoy in [\"fot\", \"sykkel\"]:\n",
    "\n",
    "    G = nz.Graf(kjoretoy=kjoretoy, kostnad=\"minutter\", kommuner=\"0301\")\n",
    "    \n",
    "    korteste_ruter = G.shortest_path(startpunkter = punkter_rundt_akersveien, sluttpunkter = punkter_rundt_akersveien, id_kolonne = \"idx\")\n",
    "    \n",
    "    korteste_ruter[\"kjoretoy\"] = kjoretoy\n",
    "    \n",
    "    resultater = gpd.GeoDataFrame(pd.concat([resultater, korteste_ruter], axis=0, ignore_index=True), geometry=\"geometry\", crs=25833)\n",
    "    \n",
    "kartlegg(resultater, \"kjoretoy\", cmap=\"bwr\")"
   ]
  },
  {
   "attachments": {},
   "cell_type": "markdown",
   "metadata": {},
   "source": [
    "Vår frelsers gravlund skulle vært mulig å gå gjennom. Statens vegvesen har kombinert sine vegdata med OpenStreetMap for å lage nettverket for sykkel/fot, men filtreringen av OpenStreetMap-dataene er for streng. Det skal muligens fikses i løpet av 2023.\n",
    "\n",
    "Legg også merke til at et par av punktene starter inni Gamle Aker kirkegård. Det er fordi den ene adressen (i Telthusbakken) er nærmest vegen inni kirkegården, selv om det er et gjerde og høydeforskjell mellom. Reisetiden til fots blir da en god del mer hvis man skal østover mot Grünerløkka."
   ]
  },
  {
   "attachments": {},
   "cell_type": "markdown",
   "metadata": {},
   "source": [
    "Det er lagt til en tidsstraff (hvis kostnaden er minutter) for oppoverbakker, og tidsbonus for nedoverbakker.\n",
    "\n",
    "Har prøvd å matche tidene oppmot google maps (kunne trengt en kvalitetssjekk). For sykkel legges det som default til 23 prosent på tiden per prosent stigning. For fotreiser er default 5 prosent. \n",
    "\n",
    "Hvis negativ stigningsprosent, logtransformeres stigningsprosenten (uten minusfortegn). Det fordi luftmotstanden gjær at farten ikke øker lineært når det blir brattere, og fordi man man gjerne må bremse når bratt."
   ]
  },
  {
   "cell_type": "code",
   "execution_count": null,
   "metadata": {},
   "outputs": [],
   "source": [
    "storo = gpd.GeoDataFrame({\"geometry\": gpd.GeoSeries(loads(\"POINT (10.7777979 59.9451632)\"))}, crs=4326).to_crs(25833)\n",
    "storo[\"idx\"] = \"storo\"\n",
    "grefsenkollen = gpd.GeoDataFrame({\"geometry\": gpd.GeoSeries(loads(\"POINT (10.8038165 59.9590036)\"))}, crs=4326).to_crs(25833)\n",
    "grefsenkollen[\"idx\"] = \"grefsenkollen\"\n",
    "\n",
    "G = nz.Graf(kjoretoy=\"sykkel\")\n",
    "\n",
    "oppover = G.shortest_path(startpunkter = storo, sluttpunkter = grefsenkollen, id_kolonne = \"idx\")\n",
    "nedover = G.shortest_path(startpunkter = grefsenkollen, sluttpunkter = storo, id_kolonne = \"idx\")\n",
    "nz.gdf_concat([oppover, nedover])"
   ]
  },
  {
   "cell_type": "code",
   "execution_count": null,
   "metadata": {},
   "outputs": [],
   "source": [
    "G = nz.Graf(kjoretoy=\"sykkel\", kostnad=\"minutter\")\n",
    "med_sykkel = G.shortest_path(startpunkter = storo, sluttpunkter = grefsenkollen, id_kolonne = \"idx\")\n",
    "med_sykkel[\"hva\"] = \"sykkel\"\n",
    "\n",
    "G = nz.Graf(kjoretoy=\"fot\", kostnad=\"minutter\")\n",
    "til_fots = G.shortest_path(startpunkter = storo, sluttpunkter = grefsenkollen, id_kolonne = \"idx\")\n",
    "til_fots[\"hva\"] = \"fot\"\n",
    "\n",
    "kartlegg(nz.gdf_concat([med_sykkel, til_fots]), \"hva\", cmap=\"bwr\")"
   ]
  },
  {
   "attachments": {},
   "cell_type": "markdown",
   "metadata": {},
   "source": [
    "### Mer om Graf-classen\n",
    "\n",
    "De som kjenner til koseptet graf i nettverkssammenheng, stusser nok over at Graf-classen som brukes her ikke egentlig er en graf. Navnet Graf er brukt fordi det er en konvensjon i nettverksanalyse i Python, R (og sikkert flere språk) å starte nettverksanalysen med å initiere en class med navn Graph, som er en faktisk graf. Her lages grafen først inni nettverksbereningene, for å få med lenker fra start- og sluttpunktene til nodene i nettverket. For å unngå forvirring, kunne man byttet navn på classen Graf. Tips tas imot med takk. "
   ]
  },
  {
   "attachments": {},
   "cell_type": "markdown",
   "metadata": {},
   "source": [
    "Når man kjører Graf(), lastes det nyeste klargjorte vegnettet fra fellesbøtta inn som en GeoDataFrame og lagres i attributten 'nettverk':"
   ]
  },
  {
   "cell_type": "code",
   "execution_count": null,
   "metadata": {},
   "outputs": [],
   "source": [
    "G = nz.Graf()\n",
    "G.nettverk.head(3)"
   ]
  },
  {
   "attachments": {},
   "cell_type": "markdown",
   "metadata": {},
   "source": [
    "Man kan velge eldre vegnett (tilbake til 2019):"
   ]
  },
  {
   "cell_type": "code",
   "execution_count": null,
   "metadata": {},
   "outputs": [],
   "source": [
    "G = nz.Graf(2021)\n",
    "G.aar"
   ]
  },
  {
   "attachments": {},
   "cell_type": "markdown",
   "metadata": {},
   "source": [
    "Man kan også bruke egne vegnett. Det bør kjøres gjennom funksjonen lag_nettverk for å få riktige kolonnenavn osv.\n",
    "\n",
    "Man kan enten spesifise kolonnenavnene:"
   ]
  },
  {
   "cell_type": "code",
   "execution_count": null,
   "metadata": {},
   "outputs": [],
   "source": [
    "veger = gpd.read_parquet(r\"C:\\Users\\ort\\OneDrive - Statistisk sentralbyrå\\data\\vegdata\\veger_oslo_og_naboer_2021.parquet\")\n",
    "\n",
    "nettverk = nz.lag_nettverk(veger,\n",
    "                            source = \"fromnodeid\",\n",
    "                            target = \"tonodeid\",\n",
    "                            minutter = (\"drivetime_fw\", \"drivetime_bw\")\n",
    "                            )\n",
    "                     \n",
    "G = nz.Graf(nettverk=nettverk)\n",
    "G.nettverk.head()"
   ]
  },
  {
   "attachments": {},
   "cell_type": "markdown",
   "metadata": {},
   "source": [
    "Eller lage et retningsløst nettverk bare basert på linjegeometrien. \n",
    "\n",
    "Da bør/må man også endre et par parametre i Graf:\n",
    "- directed bør være False, hvis ikke man vet at linjegeometrien er i riktig rekkefølge. Med directed=False kan man bevege seg i begge retninger langs nettverket. \n",
    "- hvis kjoretoy='bil', må kostnad være \"meter\" eller en kolonne som finnes i dataene. Hvis sykkel eller fot, beregnes minuttene fra meter-kolonnen."
   ]
  },
  {
   "cell_type": "code",
   "execution_count": null,
   "metadata": {},
   "outputs": [],
   "source": [
    "veger_kun_geom = veger[[\"geometry\"]]\n",
    "\n",
    "nettverk = nz.lag_nettverk(veger_kun_geom)\n",
    "\n",
    "G = nz.Graf(nettverk=nettverk, \n",
    "            directed=False,\n",
    "            kostnad=\"meter\")\n",
    "\n",
    "G.nettverk.head()"
   ]
  },
  {
   "attachments": {},
   "cell_type": "markdown",
   "metadata": {},
   "source": [
    "Det er altså mulig å velge minutter som kostnad hvis kjøretøyet er sykkel eller fot: "
   ]
  },
  {
   "cell_type": "code",
   "execution_count": null,
   "metadata": {},
   "outputs": [],
   "source": [
    "G = nz.Graf(nettverk=nettverk, \n",
    "            directed=False,\n",
    "            kjoretoy=\"sykkel\",\n",
    "            kostnad=\"minutter\")\n",
    "G.nettverk.head()"
   ]
  },
  {
   "attachments": {},
   "cell_type": "markdown",
   "metadata": {},
   "source": [
    "Man kan velge ut bare relevante kommuner for å få det mye raskere."
   ]
  },
  {
   "cell_type": "markdown",
   "metadata": {},
   "source": [
    "For eksempel bare Oslo og nabokommunene:"
   ]
  },
  {
   "cell_type": "code",
   "execution_count": null,
   "metadata": {},
   "outputs": [],
   "source": [
    "import kommfylk\n",
    "oslos_naboer = kommfylk.nabokommuner(\"0301\")\n",
    "oslos_naboer"
   ]
  },
  {
   "cell_type": "code",
   "execution_count": null,
   "metadata": {},
   "outputs": [],
   "source": [
    "oslo_og_naboer = [\"0301\"] + oslos_naboer\n",
    "\n",
    "G = nz.Graf(kommuner = oslo_og_naboer)\n",
    "\n",
    "G.nettverk.KOMMUNENR.value_counts()"
   ]
  },
  {
   "attachments": {},
   "cell_type": "markdown",
   "metadata": {},
   "source": [
    "Eller hvis man vil loope dette for hver kommune, evt med nabokommuner:"
   ]
  },
  {
   "cell_type": "code",
   "execution_count": null,
   "metadata": {},
   "outputs": [],
   "source": [
    "for kommnr in kommfylk.kommuner_fra_api(2022):\n",
    "    G = nz.Graf(kommuner = kommnr)\n",
    "    # og så velge ut start- og sluttpunkter fra relevant kommune, så kjøre nettverksanalyse\n",
    "    \n",
    "for kommnr, naboer in kommfylk.nabokommuner(aar=2022).items():\n",
    "    G = nz.Graf(kommuner = [kommnr] + naboer)"
   ]
  },
  {
   "attachments": {},
   "cell_type": "markdown",
   "metadata": {},
   "source": [
    "## Regler for nettverksanalysen"
   ]
  },
  {
   "cell_type": "markdown",
   "metadata": {},
   "source": [
    "Graf-classen inneholder regler for hvordan nettverksanalysen skal gjøres:"
   ]
  },
  {
   "cell_type": "code",
   "execution_count": null,
   "metadata": {},
   "outputs": [],
   "source": [
    "G = nz.Graf()\n",
    "G"
   ]
  },
  {
   "cell_type": "markdown",
   "metadata": {},
   "source": [
    "Mer info om dem her:"
   ]
  },
  {
   "cell_type": "code",
   "execution_count": null,
   "metadata": {},
   "outputs": [],
   "source": [
    "G.info()"
   ]
  },
  {
   "cell_type": "markdown",
   "metadata": {},
   "source": [
    "Man kan tilpasse grafen sin når man initierer Graf()."
   ]
  },
  {
   "cell_type": "code",
   "execution_count": null,
   "metadata": {},
   "outputs": [],
   "source": [
    "G = nz.Graf(aar = 2022, \n",
    "            kostnad = \"meter\",\n",
    "            directed=False,\n",
    "            kjoretoy = \"sykkel\",\n",
    "            search_tolerance = 500,\n",
    "            dist_faktor = 50\n",
    "            )\n",
    "G"
   ]
  },
  {
   "cell_type": "markdown",
   "metadata": {},
   "source": [
    "De fleste attributtene kan også endres etterpå:"
   ]
  },
  {
   "cell_type": "code",
   "execution_count": null,
   "metadata": {},
   "outputs": [],
   "source": [
    "G.nettverk = G.nettverk[G.nettverk.KOMMUNENR==\"0301\"]\n",
    "G.kostnad = [\"minutter\", \"meter\"]\n",
    "G.directed = False\n",
    "G.turn_restrictions = True\n",
    "G.search_tolerance = 200\n",
    "G.dist_faktor = 10\n",
    "G.kost_til_nodene = False\n",
    "G.fart = 5\n",
    "G"
   ]
  },
  {
   "cell_type": "markdown",
   "metadata": {},
   "source": [
    "Det er ikke mulig å endre attributtene som krever at nettverket leses inn på nytt. Altså disse:"
   ]
  },
  {
   "cell_type": "code",
   "execution_count": null,
   "metadata": {},
   "outputs": [],
   "source": [
    "try:\n",
    "    G.aar = 2021\n",
    "    G.kjoretoy = \"sykkel\"\n",
    "    G.kommuner = \"0301\"\n",
    "    G.noder = None\n",
    "except AttributeError as e:\n",
    "    print(\"AttributeError: \", e)"
   ]
  },
  {
   "cell_type": "markdown",
   "metadata": {},
   "source": [
    "Men dette funker:"
   ]
  },
  {
   "cell_type": "code",
   "execution_count": null,
   "metadata": {},
   "outputs": [],
   "source": [
    "G = nz.Graf(aar = 2022,\n",
    "            kjoretoy = \"sykkel\",\n",
    "            kommuner = \"0301\")\n",
    "G"
   ]
  },
  {
   "attachments": {},
   "cell_type": "markdown",
   "metadata": {},
   "source": [
    "### kostnad\n",
    "\n",
    "kostnad er satt til minutter som default, men kan endres til meter. "
   ]
  },
  {
   "cell_type": "code",
   "execution_count": null,
   "metadata": {},
   "outputs": [],
   "source": [
    "G.kostnad"
   ]
  },
  {
   "attachments": {},
   "cell_type": "markdown",
   "metadata": {},
   "source": [
    "Man kan også lage egne kostnader og legge det til som kolonner i nettverket. For eksempel hvis man vil finne grønneste rute, mest støyfrie rute eller lignende. "
   ]
  },
  {
   "attachments": {},
   "cell_type": "markdown",
   "metadata": {},
   "source": [
    "### fart\n",
    "Sykkel og til fots er satt til en konstant fart på henholdvis 20 og 5 kilometer i timen:"
   ]
  },
  {
   "cell_type": "code",
   "execution_count": null,
   "metadata": {},
   "outputs": [],
   "source": [
    "G = nz.Graf(kjoretoy = \"sykkel\")\n",
    "G.fart"
   ]
  },
  {
   "cell_type": "code",
   "execution_count": null,
   "metadata": {},
   "outputs": [],
   "source": [
    "G = nz.Graf(kjoretoy = \"fot\")\n",
    "G.fart"
   ]
  },
  {
   "attachments": {},
   "cell_type": "markdown",
   "metadata": {},
   "source": [
    "### prosent_straff...\n",
    "\n",
    "for stigning. Gjelder sykkel og fot. Større straff for oppoverbakker for sykkel, og større gevinst for nedover. "
   ]
  },
  {
   "attachments": {},
   "cell_type": "markdown",
   "metadata": {},
   "source": [
    "### forbudte_vegtyper\n",
    "\n",
    "Dette gjelder kun fot og sykkel. Fortau/gangveg er egentlig lov å sykle på når få fotgjengere, men her antas det at det er rushtid og mange fotgjengere."
   ]
  },
  {
   "cell_type": "code",
   "execution_count": null,
   "metadata": {},
   "outputs": [],
   "source": [
    "nz.Graf(kjoretoy = \"fot\").forbudte_vegtyper"
   ]
  },
  {
   "cell_type": "code",
   "execution_count": null,
   "metadata": {},
   "outputs": [],
   "source": [
    "nz.Graf(kjoretoy = \"sykkel\").forbudte_vegtyper"
   ]
  },
  {
   "attachments": {},
   "cell_type": "markdown",
   "metadata": {},
   "source": [
    "### sperring\n",
    "Sperringer gjelder kun når kjoretoy=='bil'. Som default er alle vegbommer med:"
   ]
  },
  {
   "cell_type": "code",
   "execution_count": null,
   "metadata": {},
   "outputs": [],
   "source": [
    "G = nz.Graf()\n",
    "G.sperring"
   ]
  },
  {
   "attachments": {},
   "cell_type": "markdown",
   "metadata": {},
   "source": [
    "Men man kan velge at bare noen eller ingen vegkategorier skal ha sperringer (hvis man undersøker kjøretid for utrykning, skogeiere, folk med tilgang til egen privatveg osv.):"
   ]
  },
  {
   "cell_type": "code",
   "execution_count": null,
   "metadata": {},
   "outputs": [],
   "source": [
    "G = nz.Graf(sperring = \"ERFK\") # nå er det lov å kjøre gjennom private bommer og skogsbilvegbommer\n",
    "G = nz.Graf(sperring = None) # nå er alle bommer lov å kjøre gjennom\n",
    "G = nz.Graf() # nå er ingen bommer lov å kjøre gjennom"
   ]
  },
  {
   "attachments": {},
   "cell_type": "markdown",
   "metadata": {},
   "source": [
    "### fjern_isolerte\n",
    "Sperringer gjør at en del adresser blir isolert inni vegnettet bak bom, ofte inni borettslag eller boliger med innkjørsel.\n",
    "\n",
    "Disse små, isolerte nettverkene fjernes som default:"
   ]
  },
  {
   "cell_type": "code",
   "execution_count": null,
   "metadata": {},
   "outputs": [],
   "source": [
    "G.fjern_isolerte"
   ]
  },
  {
   "attachments": {},
   "cell_type": "markdown",
   "metadata": {},
   "source": [
    "Sånn ser de isolerte ut for et lite område (det største røde området er en kolonihage):"
   ]
  },
  {
   "cell_type": "code",
   "execution_count": null,
   "metadata": {},
   "outputs": [],
   "source": [
    "nett = G.nettverk\n",
    "nett.loc[nett.isolert != 0, \"isolert\"] = 1\n",
    "kartlegg(nett.sjoin(nz.til_gdf(punkter.buffer(1000).iloc[0], crs=25833)), \"isolert\", cmap=\"bwr\")"
   ]
  },
  {
   "attachments": {},
   "cell_type": "markdown",
   "metadata": {},
   "source": [
    "### dist_faktor\n",
    "Ikke alle reiser blir funnet selv om isolerte nettverk fjernes. Noen ganger må man lenger enn nærmeste node for å finne veien. Derfor letes det som default 10 prosent + 10 meter lenger unna enn nærmeste node:"
   ]
  },
  {
   "cell_type": "code",
   "execution_count": null,
   "metadata": {},
   "outputs": [],
   "source": [
    "print(\"default dist_faktor:\", G.dist_faktor)"
   ]
  },
  {
   "cell_type": "markdown",
   "metadata": {},
   "source": [
    "Som betyr at:"
   ]
  },
  {
   "cell_type": "code",
   "execution_count": null,
   "metadata": {},
   "outputs": [],
   "source": [
    "for meter in [1, 10, 100, 1000]:\n",
    "    print(f\"hvis nærmeste node er {meter} meter unna, letes det innen {int(meter * (1+G.dist_faktor/100) + G.dist_faktor)} meter\")"
   ]
  },
  {
   "cell_type": "markdown",
   "metadata": {},
   "source": [
    "Oftest er forskjellene små med høy dist_faktor, men noen ganger kan rutene hoppe over gjerder, hoppe til andre siden av en motorveien eller lignende."
   ]
  },
  {
   "cell_type": "code",
   "execution_count": null,
   "metadata": {},
   "outputs": [],
   "source": [
    "G = nz.Graf()\n",
    "\n",
    "G.dist_faktor = 0\n",
    "od0 = G.od_cost_matrix(punkter, punkter, id_kolonne=\"idx\")\n",
    "\n",
    "G.dist_faktor = 50\n",
    "od50 = G.od_cost_matrix(punkter, punkter, id_kolonne=\"idx\")\n",
    "\n",
    "od0 = od0.rename(columns={\"minutter\": \"minutter0\"})\n",
    "od50 = od50.rename(columns={\"minutter\": \"minutter50\"})\n",
    "\n",
    "resultater = od0.merge(od50, on = (\"fra\", \"til\"))\n",
    "\n",
    "resultater[[\"minutter0\", \"minutter50\"]].describe().drop(\"count\")"
   ]
  },
  {
   "attachments": {},
   "cell_type": "markdown",
   "metadata": {},
   "source": [
    "Hvis man vil ha både nøyaktige og fullstendige resultater, kan det være lurt å først bruke lav dist_faktor, så gjenta for reisene som manglet med høyere dist_faktor. \n",
    "\n",
    "Det er ikke mange punkter som mangler med dist_faktor = 0:"
   ]
  },
  {
   "cell_type": "code",
   "execution_count": null,
   "metadata": {},
   "outputs": [],
   "source": [
    "import pandas as pd\n",
    "import numpy as np\n",
    "\n",
    "G = nz.Graf()\n",
    "    \n",
    "resultater = []\n",
    "for dist_faktor in [0, 10, 100, 250]:\n",
    "    \n",
    "    G.dist_faktor = dist_faktor\n",
    "\n",
    "    od = G.od_cost_matrix(punkter, punkter, id_kolonne=\"idx\")\n",
    "\n",
    "    resultat = pd.DataFrame({\n",
    "        \"dist_faktor\": dist_faktor,\n",
    "        \"mangler_prosent\": len(od[od[G.kostnad].isna()]) / len(od)*100,\n",
    "        \"kostnad_median\": np.median(od.loc[~od[G.kostnad].isna(), G.kostnad]),\n",
    "        \"kostnad_mean\": np.mean(od.loc[~od[G.kostnad].isna(), G.kostnad]),\n",
    "                        }, index=[0])\n",
    "    resultater.append(resultat)\n",
    "\n",
    "resultater = pd.concat(resultater, axis=0, ignore_index=True)\n",
    "resultater"
   ]
  },
  {
   "attachments": {},
   "cell_type": "markdown",
   "metadata": {},
   "source": [
    "De siste 0.2 prosentene er alle til/fra et punkt på Hovedøya. Her kreves det rundt 250 i dist_faktor for å komme seg til fastlandet. dist_faktor=250 bør man unngå å gjøre for noe annet enn ekstreme tilfeller. Eller bare droppe disse tilfellene totalt. "
   ]
  },
  {
   "attachments": {},
   "cell_type": "markdown",
   "metadata": {},
   "source": [
    "### kost_til_nodene\n",
    "\n",
    "Start- og sluttpunktene kobles til vegnettet via nærliggende noder. Fram til nodene beveger man seg utenom vegnettet, i luftlinje. Her er det sannsynlig at det ikke er lov å kjøre bil. Det kan riktignok være mulig+lov å gå og/eller sykle der. Derfor legges det til en kostnad fram til nodene i nettverket. \n",
    "\n",
    "Parameteret kost_til_nodene avgjør farten fra start-/sluttpunkt til nodene. Denne farten gjelder for luftlinje fram til noden ganget med 1.5 (fordi det alltid er svinger/ulent terreng i Norge).\n",
    "\n",
    "kost_til_nodene er som default satt til 5 km/t uavhengig av kjøretøy. Det fordi det antas at man må gå til fots fram til vegnettet. \n",
    "\n",
    "Dette vil være for lavt hvis det egentlig finnes en veg som ikke er registrert, eller at andre transportmidler er tilgjengelig (båt, snøskuter...). Da kan man endre parameteret. Kan gi mening å gjøre det bare for de sære tilfellene. \n",
    "\n",
    "OBS: hvis man setter en høy fart til nettverket og man har en høy dist_faktor, vil mange reiser unngå vegnettet så mye som mulig, siden det da er raskere å bevege seg i luftlinje*1.5."
   ]
  },
  {
   "cell_type": "code",
   "execution_count": null,
   "metadata": {},
   "outputs": [],
   "source": [
    "import pandas as pd\n",
    "import numpy as np\n",
    "\n",
    "resultater = []\n",
    "for kost_til_nodene in [0, 30, 10, 5, 3]:\n",
    "    \n",
    "    G = nz.Graf()\n",
    "    G.kost_til_nodene = kost_til_nodene\n",
    "    \n",
    "    od = G.od_cost_matrix(punkter, punkter, id_kolonne=\"idx\")\n",
    "\n",
    "    resultat = pd.DataFrame({\n",
    "        \"kost_til_nodene\": kost_til_nodene,\n",
    "        \"kostnad_median\": np.median(od.loc[~od[G.kostnad].isna(), G.kostnad]),\n",
    "        \"kostnad_mean\": np.mean(od.loc[~od[G.kostnad].isna(), G.kostnad]),\n",
    "                        }, index=[0])\n",
    "    resultater.append(resultat)\n",
    "\n",
    "resultater = pd.concat(resultater, axis=0, ignore_index=True)\n",
    "resultater"
   ]
  },
  {
   "cell_type": "markdown",
   "metadata": {},
   "source": [
    "Hvis man beregner reisetid fra og til samme punkt, vil "
   ]
  }
 ],
 "metadata": {
  "language_info": {
   "codemirror_mode": {
    "name": "ipython"
   },
   "file_extension": ".py",
   "mimetype": "text/x-python",
   "name": "python",
   "nbconvert_exporter": "python"
  },
  "vscode": {
   "interpreter": {
    "hash": "d0bcc4652e48e4b09cdc044a4ad1497622febd4016e00c4a496b6ef4232df7eb"
   }
  }
 },
 "nbformat": 4,
 "nbformat_minor": 2
}
