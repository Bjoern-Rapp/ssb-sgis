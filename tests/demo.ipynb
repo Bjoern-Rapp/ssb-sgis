{
 "cells": [
  {
   "attachments": {},
   "cell_type": "markdown",
   "metadata": {},
   "source": [
    "## Network analysis with ssb-gis-utils"
   ]
  },
  {
   "attachments": {},
   "cell_type": "markdown",
   "metadata": {},
   "source": [
    "Network analysis with igraph, integrated with geopandas.\n",
    "\n",
    "The package supports three types of network analysis:\n",
    "- od_cost_matrix: fast many-to-many travel times/distances\n",
    "- shortest_path: returns the geometry of the lowest-cost paths.\n",
    "- service_area: returns the roads that can be reached within one or more impedances."
   ]
  },
  {
   "cell_type": "code",
   "execution_count": null,
   "metadata": {},
   "outputs": [],
   "source": [
    "import geopandas as gpd\n",
    "import numpy as np\n",
    "import pandas as pd\n",
    "import matplotlib.pyplot as plt\n",
    "\n",
    "import os\n",
    "while \"gis_utils\" not in os.listdir():\n",
    "    os.chdir(\"../\")\n",
    "\n",
    "pd.options.mode.chained_assignment = None # ignore SettingWithCopyWarning\n",
    "\n",
    "import gis_utils as gu\n",
    "# gu.__version__"
   ]
  },
  {
   "cell_type": "code",
   "execution_count": null,
   "metadata": {},
   "outputs": [],
   "source": [
    "points = gpd.read_parquet(r\"C:\\Users\\ort\\OneDrive - Statistisk sentralbyrå\\data\\tilfeldige_adresser_1000.parquet\")\n",
    "p = points.iloc[[0]]"
   ]
  },
  {
   "cell_type": "code",
   "execution_count": null,
   "metadata": {},
   "outputs": [],
   "source": [
    "roads = gpd.read_parquet(r\"C:/Users/ort/OneDrive - Statistisk sentralbyrå/data/vegdata/veger_oslo_og_naboer_2022.parquet\")\n",
    "roads = roads[[\"oneway\", \"drivetime_fw\", \"drivetime_bw\", \"geometry\"]]\n",
    "roads.head(3)"
   ]
  },
  {
   "attachments": {},
   "cell_type": "markdown",
   "metadata": {},
   "source": [
    "## The Network"
   ]
  },
  {
   "cell_type": "code",
   "execution_count": null,
   "metadata": {},
   "outputs": [],
   "source": [
    "nw = gu.Network(roads)\n",
    "nw"
   ]
  },
  {
   "cell_type": "code",
   "execution_count": null,
   "metadata": {},
   "outputs": [],
   "source": [
    "nw.gdf.head(3)"
   ]
  },
  {
   "attachments": {},
   "cell_type": "markdown",
   "metadata": {},
   "source": [
    "The network class includes methods for customising the road data. More about this further down in this notebook."
   ]
  },
  {
   "cell_type": "code",
   "execution_count": null,
   "metadata": {},
   "outputs": [],
   "source": [
    "nw = (nw\n",
    ".close_network_holes(1.5)\n",
    ".remove_isolated()\n",
    "#.cut_lines(25)\n",
    ")\n",
    "nw"
   ]
  },
  {
   "attachments": {},
   "cell_type": "markdown",
   "metadata": {},
   "source": [
    "For directed network analysis, the DirectedNetwork class can be used. This inherits all methods from the Network class, and also includes methods for making a directed network."
   ]
  },
  {
   "cell_type": "code",
   "execution_count": null,
   "metadata": {},
   "outputs": [],
   "source": [
    "nw = gu.DirectedNetwork(roads).remove_isolated()\n",
    "nw"
   ]
  },
  {
   "attachments": {},
   "cell_type": "markdown",
   "metadata": {},
   "source": [
    "The above warning suggests that the data might not be directed yet. This is correct. The roads going both ways, only appear once, and the roads going backwards, have to be turned around. \n",
    "\n",
    "This can be done in the make_directed_network method. "
   ]
  },
  {
   "cell_type": "code",
   "execution_count": null,
   "metadata": {},
   "outputs": [],
   "source": [
    "nw2 = nw.copy()\n",
    "nw2 = nw2.make_directed_network(\n",
    "        direction_col = \"oneway\",\n",
    "        direction_vals_bft = (\"B\", \"FT\", \"TF\"),\n",
    "        speed_col = None,\n",
    "        minute_cols = (\"drivetime_fw\", \"drivetime_bw\"),\n",
    "        flat_speed = None,\n",
    "        )\n",
    "nw2"
   ]
  },
  {
   "attachments": {},
   "cell_type": "markdown",
   "metadata": {},
   "source": [
    "The roads now have almost twice as many rows, since most roads are bidirectional in this network.\n",
    "\n",
    "OpenStreetMap road data and Norwegian road network can be customised with custom methods, where the default parameters should give the correct results:"
   ]
  },
  {
   "cell_type": "code",
   "execution_count": null,
   "metadata": {},
   "outputs": [],
   "source": [
    "# nw.make_directed_network_osm()"
   ]
  },
  {
   "cell_type": "code",
   "execution_count": null,
   "metadata": {},
   "outputs": [],
   "source": [
    "nw = nw.make_directed_network_norway()\n",
    "nw"
   ]
  },
  {
   "attachments": {},
   "cell_type": "markdown",
   "metadata": {},
   "source": [
    "## NetworkAnalysis"
   ]
  },
  {
   "cell_type": "code",
   "execution_count": null,
   "metadata": {},
   "outputs": [],
   "source": [
    "nwa = gu.NetworkAnalysis(nw, cost=\"minutes\")\n",
    "nwa"
   ]
  },
  {
   "cell_type": "code",
   "execution_count": null,
   "metadata": {},
   "outputs": [],
   "source": [
    "od = nwa.od_cost_matrix(points, points, id_col=\"idx\")\n",
    "od"
   ]
  },
  {
   "cell_type": "code",
   "execution_count": null,
   "metadata": {},
   "outputs": [],
   "source": [
    "gu.qtm(\n",
    "    nwa.od_cost_matrix(points.sample(1), points, lines=True),\n",
    "    \"minutes\", title=\"Travel time (minutes) from 1 to 1000 addresses.\", k=7\n",
    "    )"
   ]
  },
  {
   "cell_type": "code",
   "execution_count": null,
   "metadata": {},
   "outputs": [],
   "source": [
    "sp = nwa.shortest_path(points.iloc[[0]], points.sample(100), id_col=\"idx\")\n",
    "\n",
    "gu.qtm(sp)"
   ]
  },
  {
   "cell_type": "code",
   "execution_count": null,
   "metadata": {},
   "outputs": [],
   "source": [
    "from matplotlib.colors import LinearSegmentedColormap\n",
    "\n",
    "def chop_cmap_frac(cmap: LinearSegmentedColormap, frac: float) -> LinearSegmentedColormap:\n",
    "    \"\"\"Chops off the beginning `frac` fraction of a colormap.\"\"\"\n",
    "    cmap = plt.get_cmap(cmap)\n",
    "    cmap_as_array = cmap(np.arange(256))\n",
    "    cmap_as_array = cmap_as_array[int(frac * len(cmap_as_array)):]\n",
    "    return LinearSegmentedColormap.from_list(cmap.name + f\"_frac{frac}\", cmap_as_array)\n",
    "\n",
    "cmap = chop_cmap_frac(\"RdPu\", 0.2)\n",
    "\n",
    "sp = nwa.shortest_path(\n",
    "    points.sample(150), points.sample(150), \n",
    "    summarise=True\n",
    ")\n",
    "\n",
    "gu.qtm(sp, \"n\", scheme=\"naturalbreaks\", k=9, cmap=cmap, title=\"Number of times each road was used.\")"
   ]
  },
  {
   "cell_type": "code",
   "execution_count": null,
   "metadata": {},
   "outputs": [],
   "source": [
    "sa = nwa.service_area(points.sample(5), impedance=(5,10,15), id_col=\"idx\")\n",
    "sa"
   ]
  },
  {
   "cell_type": "code",
   "execution_count": null,
   "metadata": {},
   "outputs": [],
   "source": [
    "sa = nwa.service_area(points.iloc[[0]], impedance=np.arange(1, 11))\n",
    "sa = sa.sort_values(\"minutes\", ascending=False)\n",
    "gu.qtm(sa, \"minutes\", k=9)"
   ]
  },
  {
   "attachments": {},
   "cell_type": "markdown",
   "metadata": {},
   "source": [
    "Set dissolve=False to get each road segment returned, one for each service area that uses the segment. If you have a lot of overlapping service areas that are to be dissolved in the end, removing duplicates first makes things a whole lot faster."
   ]
  },
  {
   "cell_type": "code",
   "execution_count": null,
   "metadata": {},
   "outputs": [],
   "source": [
    "sa = nwa.service_area(points.sample(250), impedance=5, dissolve=False)\n",
    "\n",
    "print(len(sa))\n",
    "\n",
    "sa = sa.drop_duplicates([\"source\", \"target\"])\n",
    "\n",
    "print(len(sa))\n",
    "\n",
    "gu.qtm(sa)"
   ]
  },
  {
   "cell_type": "markdown",
   "metadata": {},
   "source": [
    "### Customising the network"
   ]
  },
  {
   "cell_type": "code",
   "execution_count": null,
   "metadata": {},
   "outputs": [],
   "source": [
    "nw = gu.DirectedNetwork(roads)\n",
    "nw"
   ]
  },
  {
   "cell_type": "code",
   "execution_count": null,
   "metadata": {},
   "outputs": [],
   "source": [
    "nw = nw.get_largest_component()\n",
    "\n",
    "gu.clipmap(\n",
    "    nw.gdf, points.iloc[[0]].buffer(1000),\n",
    "    column=\"connected\", \n",
    "    scheme=\"equalinterval\", \n",
    "    cmap=\"bwr\",\n",
    "    explore=False,\n",
    "    )"
   ]
  },
  {
   "attachments": {},
   "cell_type": "markdown",
   "metadata": {},
   "source": [
    "The isolated networks can be removed by setting remove=True. Or use the remove_isolated method:"
   ]
  },
  {
   "cell_type": "code",
   "execution_count": null,
   "metadata": {},
   "outputs": [],
   "source": [
    "nw = nw.remove_isolated()\n",
    "\n",
    "gu.clipmap(\n",
    "    nw.gdf, points.iloc[[0]].buffer(1000),\n",
    "    explore=False,\n",
    "    )\n",
    "\n",
    "nw"
   ]
  },
  {
   "attachments": {},
   "cell_type": "markdown",
   "metadata": {},
   "source": [
    "If your road data has small gaps between the segments, these can be populated with straight lines:"
   ]
  },
  {
   "cell_type": "code",
   "execution_count": null,
   "metadata": {},
   "outputs": [],
   "source": [
    "nw = nw.close_network_holes(max_dist=1.5) # meters\n",
    "nw"
   ]
  },
  {
   "cell_type": "code",
   "execution_count": null,
   "metadata": {},
   "outputs": [],
   "source": [
    "nw = nw.cut_lines(25) # meters\n",
    "nw"
   ]
  },
  {
   "cell_type": "code",
   "execution_count": null,
   "metadata": {},
   "outputs": [],
   "source": []
  }
 ],
 "metadata": {
  "language_info": {
   "codemirror_mode": {
    "name": "ipython"
   },
   "file_extension": ".py",
   "mimetype": "text/x-python",
   "name": "python",
   "nbconvert_exporter": "python"
  },
  "vscode": {
   "interpreter": {
    "hash": "58cf3968dd8fae3c0d0e7b9e26383db04c3cd2ec9930e0a4ac6600227842cae7"
   }
  }
 },
 "nbformat": 4,
 "nbformat_minor": 2
}
