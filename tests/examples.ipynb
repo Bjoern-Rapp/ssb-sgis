{
 "cells": [
  {
   "cell_type": "code",
   "execution_count": null,
   "id": "17d5a374",
   "metadata": {
    "tags": [
     "remove_cell"
    ]
   },
   "outputs": [],
   "source": [
    "import warnings\n",
    "import geopandas as gpd\n",
    "import os\n",
    "import pandas as pd\n",
    "import numpy as np\n",
    "\n",
    "os.chdir(\"../src\")\n",
    "import gis_utils as gs\n",
    "\n",
    "os.chdir(\"..\")\n",
    "\n",
    "# ignore some warnings to make it cleaner\n",
    "pd.options.mode.chained_assignment = None \n",
    "warnings.filterwarnings(action=\"ignore\", category=UserWarning)\n",
    "warnings.filterwarnings(action=\"ignore\", category=FutureWarning)\n",
    "plot_kwargs = {\n",
    "    \"facecolor\": \"#0f0f0f\",\n",
    "    \"title_color\": \"#f7f7f7\",\n",
    "}"
   ]
  },
  {
   "attachments": {},
   "cell_type": "markdown",
   "id": "c9ae8eb2",
   "metadata": {},
   "source": [
    "The package offers functions that simplify and ... geopandas code for long, repetitive code.\n",
    "\n",
    "Also network analysis..."
   ]
  },
  {
   "attachments": {},
   "cell_type": "markdown",
   "id": "4d262ccc",
   "metadata": {},
   "source": [
    "## Network analysis\n",
    "\n",
    "The package supports three types of network analysis, and methods for customising and optimising your road data.\n",
    "\n",
    "Analysis can start by initialising a NetworkAnalysis instance:"
   ]
  },
  {
   "cell_type": "code",
   "execution_count": null,
   "id": "c82bf6d2",
   "metadata": {},
   "outputs": [],
   "source": [
    "from gis_utils import DirectedNetwork, NetworkAnalysisRules, NetworkAnalysis\n",
    "\n",
    "roads = gpd.read_parquet(\"tests/testdata/roads_oslo_2022.parquet\")\n",
    "\n",
    "nw = (\n",
    "    DirectedNetwork(roads)\n",
    "    .remove_isolated()\n",
    "    .make_directed_network(\n",
    "        direction_col=\"oneway\",\n",
    "        direction_vals_bft=(\"B\", \"FT\", \"TF\"),\n",
    "        minute_cols=(\"drivetime_fw\", \"drivetime_bw\"),\n",
    "        )\n",
    ")\n",
    "\n",
    "rules = NetworkAnalysisRules(weight=\"minutes\")\n",
    "\n",
    "nwa = NetworkAnalysis(\n",
    "    network=nw, rules=rules\n",
    ")\n",
    "\n",
    "nwa"
   ]
  },
  {
   "cell_type": "code",
   "execution_count": null,
   "id": "3cb08665",
   "metadata": {},
   "outputs": [],
   "source": [
    "points = gpd.read_parquet(\"tests/testdata/random_points.parquet\")\n",
    "p1 = points.iloc[[0]]"
   ]
  },
  {
   "attachments": {},
   "cell_type": "markdown",
   "id": "b49ae455",
   "metadata": {},
   "source": [
    "### OD cost matrix\n",
    "Fast many-to-many travel times/distances"
   ]
  },
  {
   "cell_type": "code",
   "execution_count": null,
   "id": "8d0b73f8",
   "metadata": {},
   "outputs": [],
   "source": [
    "od = nwa.od_cost_matrix(p1, points, lines=True)\n",
    "\n",
    "print(od.head(3))\n",
    "\n",
    "gs.qtm(od, \"minutes\", title=\"Travel time (minutes) from 1 to 1000 points.\", **plot_kwargs,\n",
    ")"
   ]
  },
  {
   "attachments": {},
   "cell_type": "markdown",
   "id": "4011cfe5",
   "metadata": {},
   "source": [
    "### Shortest path\n",
    "\n",
    "Get the actual paths, either individually or summarised:"
   ]
  },
  {
   "cell_type": "code",
   "execution_count": null,
   "id": "f657438f",
   "metadata": {},
   "outputs": [],
   "source": [
    "sp = nwa.shortest_path(points.sample(100), points.sample(100), summarise=True)\n",
    "\n",
    "gs.qtm(\n",
    "    gs.buff(sp, 15),\n",
    "    \"n\",\n",
    "    scheme=\"naturalbreaks\",\n",
    "    cmap=\"plasma\",\n",
    "    title=\"Number of times each road was used.\",\n",
    "    **plot_kwargs,\n",
    ")"
   ]
  },
  {
   "attachments": {},
   "cell_type": "markdown",
   "id": "8c728ba5",
   "metadata": {},
   "source": [
    "### Service area\n",
    "Get the area that can be reached within one or more breaks"
   ]
  },
  {
   "cell_type": "code",
   "execution_count": null,
   "id": "70b5c9b9",
   "metadata": {},
   "outputs": [],
   "source": [
    "sa = nwa.service_area(p1, breaks=np.arange(1, 11), dissolve=False)\n",
    "\n",
    "sa = sa.drop_duplicates([\"source\", \"target\"])\n",
    "\n",
    "gs.qtm(sa, \"minutes\", k=10, title=\"Roads that can be reached within 1 to 10 minutes\", legend=False, **plot_kwargs)"
   ]
  },
  {
   "attachments": {},
   "cell_type": "markdown",
   "id": "99605e05",
   "metadata": {},
   "source": [
    "Check the log:"
   ]
  },
  {
   "cell_type": "code",
   "execution_count": null,
   "id": "f1936888",
   "metadata": {},
   "outputs": [],
   "source": [
    "nwa.log"
   ]
  },
  {
   "cell_type": "code",
   "execution_count": null,
   "id": "279f6543",
   "metadata": {},
   "outputs": [],
   "source": [
    "#!jupytext --to md --metadata '{\"jupytext\":{\"formats\":\"ipynb,md:light\"}}' tests/examples.ipynb\n",
    "#!jupytext --set-formats ipynb,py --sync tests/examples.ipynb \n",
    "!jupytext --set-formats ipynb,md --sync --opt comment_magics=false --update-metadata '{\"jupytext\": {\"notebook_metadata_filter\":\"remove_cell\"}}' tests/examples.ipynb \n",
    "!jupytext --set-formats ipynb,md --sync --update-metadata '{\"jupytext\": {\"cell_metadata_filter\":\"remove_cell\"}}' \\\n",
    "    tests/examples.ipynb \n",
    "\n",
    "!jupytext --to md --update-metadata '{\"jupytext\": {\"cell_metadata_filter\":\"remove_cell\"}}' tests/examples.ipynb \n",
    "\n",
    "jupytext --to md --update-metadata '{\"jupytext\": {\"notebook_metadata_filter\":\"all\"}}' tests/examples.ipynb\n",
    "\n",
    "jupytext --set-formats ipynb,py [--sync] tests/examples.ipynb\n"
   ]
  },
  {
   "cell_type": "code",
   "execution_count": null,
   "id": "3093fb6b",
   "metadata": {},
   "outputs": [],
   "source": [
    "!jupytext --to markdown tests/examples.ipynb"
   ]
  },
  {
   "cell_type": "code",
   "execution_count": null,
   "id": "bca054f8",
   "metadata": {
    "tags": [
     "remove_cell"
    ]
   },
   "outputs": [],
   "source": [
    "!jupyter nbconvert --to markdown tests/examples.ipynb --TagRemovePreprocessor.enabled=True --TagRemovePreprocessor.remove_cell_tags remove_cell\n"
   ]
  }
 ],
 "metadata": {
  "jupytext": {
   "cell_metadata_filter": "-all",
   "main_language": "python",
   "notebook_metadata_filter": "jupytext.text_representation,-jupytext.text_representation.jupytext_version,-widgets,-varInspector,-kernelspec"
  },
  "language_info": {
   "codemirror_mode": {
    "name": "ipython"
   },
   "file_extension": ".py",
   "mimetype": "text/x-python",
   "name": "python",
   "nbconvert_exporter": "python"
  },
  "vscode": {
   "interpreter": {
    "hash": "58cf3968dd8fae3c0d0e7b9e26383db04c3cd2ec9930e0a4ac6600227842cae7"
   }
  }
 },
 "nbformat": 4,
 "nbformat_minor": 5
}
