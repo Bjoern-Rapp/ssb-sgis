{
 "cells": [
  {
   "cell_type": "markdown",
   "id": "ea98f8ad",
   "metadata": {},
   "source": [
    "## Network analysis in ssb-gis-utils\n",
    "##### igraph integrated with geopandas"
   ]
  },
  {
   "cell_type": "markdown",
   "id": "90b582a6",
   "metadata": {},
   "source": [
    "The package supports three types of network analysis, and methods for customising and optimising your road data.\n",
    "\n",
    "The package supports four types of network analysis:\n",
    "- od_cost_matrix: fast many-to-many travel times/distances\n",
    "- get_route: returns the geometry of the lowest-cost paths.\n",
    "- get_route_frequencies: summarises how many times each road/line segment was used.\n",
    "- service_area: returns the roads/lines that can be reached within one or more breaks."
   ]
  },
  {
   "cell_type": "code",
   "execution_count": null,
   "id": "359952d4",
   "metadata": {},
   "outputs": [],
   "source": [
    "import os"
   ]
  },
  {
   "cell_type": "code",
   "execution_count": null,
   "id": "a3fa969b",
   "metadata": {},
   "outputs": [],
   "source": [
    "import warnings\n",
    "\n",
    "import geopandas as gpd\n",
    "import numpy as np\n",
    "import pandas as pd\n",
    "\n",
    "\n",
    "os.chdir(\"../src\")\n",
    "\n",
    "import gis_utils as gs\n",
    "\n",
    "\n",
    "os.chdir(\"..\")"
   ]
  },
  {
   "cell_type": "code",
   "execution_count": null,
   "id": "60fd47c4",
   "metadata": {},
   "outputs": [],
   "source": [
    "# ignore some warnings to make it cleaner\n",
    "pd.options.mode.chained_assignment = None\n",
    "# warnings.filterwarnings(action=\"ignore\", category=UserWarning)\n",
    "warnings.filterwarnings(action=\"ignore\", category=FutureWarning)"
   ]
  },
  {
   "cell_type": "markdown",
   "id": "b0dc77c8",
   "metadata": {},
   "source": [
    "At the core of the network analysis, is the NetworkAnalysis class.\n",
    "\n",
    "It takes a network and a set of rules for the analysis:"
   ]
  },
  {
   "cell_type": "code",
   "execution_count": null,
   "id": "358504a5",
   "metadata": {},
   "outputs": [],
   "source": [
    "gs.NetworkAnalysis"
   ]
  },
  {
   "cell_type": "markdown",
   "id": "96e8c8e4",
   "metadata": {},
   "source": [
    "The rules can be instantiated like this:"
   ]
  },
  {
   "cell_type": "code",
   "execution_count": null,
   "id": "09b69170",
   "metadata": {},
   "outputs": [],
   "source": [
    "rules = gs.NetworkAnalysisRules(weight=\"minutes\")\n",
    "rules"
   ]
  },
  {
   "cell_type": "markdown",
   "id": "71c0bca5",
   "metadata": {},
   "source": [
    "To create the network, we need some road data:"
   ]
  },
  {
   "cell_type": "code",
   "execution_count": null,
   "id": "ec762507",
   "metadata": {},
   "outputs": [],
   "source": [
    "roads = gpd.read_parquet(\"tests/testdata/roads_oslo_2022.parquet\")\n",
    "roads = roads[[\"oneway\", \"drivetime_fw\", \"drivetime_bw\", \"geometry\"]]\n",
    "roads.head(3)"
   ]
  },
  {
   "cell_type": "markdown",
   "id": "bba640e7",
   "metadata": {},
   "source": [
    "The road data can be made into a Network class instance like this:"
   ]
  },
  {
   "cell_type": "code",
   "execution_count": null,
   "id": "f7ede6ad",
   "metadata": {},
   "outputs": [],
   "source": [
    "nw = gs.Network(roads)\n",
    "nw"
   ]
  },
  {
   "cell_type": "markdown",
   "id": "e3f721a9",
   "metadata": {},
   "source": [
    "The Network is now ready for undirected network analysis. The network can also be optimises with methods stored in the Network class. More about this further down in this notebook."
   ]
  },
  {
   "cell_type": "code",
   "execution_count": null,
   "id": "81e57630",
   "metadata": {},
   "outputs": [],
   "source": [
    "nw = nw.close_network_holes(1.5).remove_isolated().cut_lines(250)\n",
    "nw"
   ]
  },
  {
   "cell_type": "markdown",
   "id": "2c729667",
   "metadata": {},
   "source": [
    "For directed network analysis, the DirectedNetwork class can be used. This inherits all methods from the Network class, and also includes methods for making a directed network."
   ]
  },
  {
   "cell_type": "code",
   "execution_count": null,
   "id": "67bc77ad",
   "metadata": {},
   "outputs": [],
   "source": [
    "nw = gs.DirectedNetwork(roads).remove_isolated()\n",
    "nw"
   ]
  },
  {
   "cell_type": "markdown",
   "id": "fd8782a8",
   "metadata": {},
   "source": [
    "We now have a DirectedNetwork instance. However, the network isn't actually directed yet. The roads going both ways, only appear once, and the roads going backwards, have to be flipped around.\n",
    "\n",
    "This can be done with the make_directed_network method:"
   ]
  },
  {
   "cell_type": "code",
   "execution_count": null,
   "id": "6748d6de",
   "metadata": {},
   "outputs": [],
   "source": [
    "nw = nw.make_directed_network(\n",
    "    direction_col=\"oneway\",\n",
    "    direction_vals_bft=(\"B\", \"FT\", \"TF\"),\n",
    "    speed_col=None,\n",
    "    minute_cols=(\"drivetime_fw\", \"drivetime_bw\"),\n",
    "    flat_speed=None,\n",
    ")\n",
    "nw"
   ]
  },
  {
   "cell_type": "markdown",
   "id": "a59dd4a7",
   "metadata": {},
   "source": [
    "The network has now almost doubled in length, since most roads are bidirectional in this network.\n",
    "\n",
    "Norwegian road data can be made directional with a custom method:"
   ]
  },
  {
   "cell_type": "code",
   "execution_count": null,
   "id": "8835ea88",
   "metadata": {},
   "outputs": [],
   "source": [
    "nw = gs.DirectedNetwork(roads).remove_isolated().make_directed_network_norway()\n",
    "nw"
   ]
  },
  {
   "cell_type": "markdown",
   "id": "6f912fd0",
   "metadata": {},
   "source": [
    "## NetworkAnalysis\n",
    "\n",
    "To start the network analysis, we put our network and our rules into the NetworkAnalysis class:"
   ]
  },
  {
   "cell_type": "code",
   "execution_count": null,
   "id": "e4ef643f",
   "metadata": {},
   "outputs": [],
   "source": [
    "nwa = gs.NetworkAnalysis(network=nw, rules=rules)\n",
    "nwa"
   ]
  },
  {
   "cell_type": "markdown",
   "id": "a547974d",
   "metadata": {},
   "source": [
    "We also need some points that will be our origins and destinations:"
   ]
  },
  {
   "cell_type": "code",
   "execution_count": null,
   "id": "fe2ae5e8",
   "metadata": {},
   "outputs": [],
   "source": [
    "points = gpd.read_parquet(\"tests/testdata/random_points.parquet\")\n",
    "points"
   ]
  },
  {
   "cell_type": "markdown",
   "id": "74315ab9",
   "metadata": {},
   "source": [
    "### OD cost matrix"
   ]
  },
  {
   "cell_type": "markdown",
   "id": "4dab723a",
   "metadata": {},
   "source": [
    "od_cost_matrix calculates the traveltime from a set of origins to a set of destinations:"
   ]
  },
  {
   "cell_type": "code",
   "execution_count": null,
   "id": "957298a6",
   "metadata": {},
   "outputs": [],
   "source": [
    "od = nwa.od_cost_matrix(origins=points, destinations=points, id_col=\"idx\")\n",
    "od"
   ]
  },
  {
   "cell_type": "markdown",
   "id": "eddf010c",
   "metadata": {},
   "source": [
    "Set 'lines' to True to get straight lines between origin and destination:"
   ]
  },
  {
   "cell_type": "code",
   "execution_count": null,
   "id": "bcb7e0fa",
   "metadata": {},
   "outputs": [],
   "source": [
    "od = nwa.od_cost_matrix(points.iloc[[0]], points, lines=True)\n",
    "\n",
    "print(od.head(3))\n",
    "\n",
    "gs.qtm(\n",
    "    od,\n",
    "    \"minutes\",\n",
    "    title=\"Travel time (minutes) from 1 to 1000 addresses.\",\n",
    ")"
   ]
  },
  {
   "cell_type": "markdown",
   "id": "e0f7ee4b",
   "metadata": {},
   "source": [
    "### Get route"
   ]
  },
  {
   "cell_type": "markdown",
   "id": "bf1291ec",
   "metadata": {},
   "source": [
    "The get_route method can be used to get the actual lowest cost path:"
   ]
  },
  {
   "cell_type": "code",
   "execution_count": null,
   "id": "8a423cf1",
   "metadata": {},
   "outputs": [],
   "source": [
    "routes = nwa.get_route(points.iloc[[0]], points.sample(100), id_col=\"idx\")\n",
    "\n",
    "gs.qtm(\n",
    "    gs.buff(routes, 12),\n",
    "    \"minutes\",\n",
    "    cmap=\"plasma\",\n",
    "    title=\"Travel times (minutes)\",\n",
    ")\n",
    "\n",
    "routes"
   ]
  },
  {
   "cell_type": "markdown",
   "id": "4904419d",
   "metadata": {},
   "source": [
    "## Get route frequencies\n",
    "\n",
    "get_route_frequencies finds the number of times each road segment was used."
   ]
  },
  {
   "cell_type": "code",
   "execution_count": null,
   "id": "40d23bc0",
   "metadata": {},
   "outputs": [],
   "source": [
    "freq = nwa.get_route_frequencies(points.sample(75), points.sample(75))\n",
    "\n",
    "gs.qtm(\n",
    "    gs.buff(freq, 15),\n",
    "    \"n\",\n",
    "    scheme=\"naturalbreaks\",\n",
    "    cmap=\"plasma\",\n",
    "    title=\"Number of times each road was used.\",\n",
    ")"
   ]
  },
  {
   "cell_type": "markdown",
   "id": "dab3b52c",
   "metadata": {},
   "source": [
    "### Service area"
   ]
  },
  {
   "cell_type": "markdown",
   "id": "41885ed6",
   "metadata": {},
   "source": [
    "The service_area method finds the area that can be reached within one or more breaks.\n",
    "\n",
    "Here, we find the areas that can be reached within 5, 10 and 15 minutes for five random points:"
   ]
  },
  {
   "cell_type": "code",
   "execution_count": null,
   "id": "d6157a53",
   "metadata": {},
   "outputs": [],
   "source": [
    "sa = nwa.service_area(points.sample(5), breaks=(5, 10, 15), id_col=\"idx\")\n",
    "sa"
   ]
  },
  {
   "cell_type": "markdown",
   "id": "fa70a546",
   "metadata": {},
   "source": [
    "If you have multiple breaks or many points in close proximity, setting 'dissolve' to False can save a lot of time/space since you can then drop duplicates (and then dissolve if you'd like)."
   ]
  },
  {
   "cell_type": "code",
   "execution_count": null,
   "id": "3b95c928",
   "metadata": {},
   "outputs": [],
   "source": [
    "sa = nwa.service_area(points.iloc[[0]], breaks=np.arange(1, 11), dissolve=False)\n",
    "\n",
    "sa = sa.drop_duplicates([\"source\", \"target\"])\n",
    "\n",
    "gs.qtm(\n",
    "    sa,\n",
    "    \"minutes\",\n",
    "    k=10,\n",
    "    title=\"Roads that can be reached within 1 to 10 minutes\",\n",
    "    legend=False,\n",
    ")"
   ]
  },
  {
   "cell_type": "markdown",
   "id": "78feb96b",
   "metadata": {},
   "source": [
    "Information about the analyses are stored in a DataFrame in the log attribute:"
   ]
  },
  {
   "cell_type": "code",
   "execution_count": null,
   "id": "08255467",
   "metadata": {},
   "outputs": [],
   "source": [
    "nwa.log"
   ]
  },
  {
   "cell_type": "markdown",
   "id": "f54f095d",
   "metadata": {},
   "source": [
    "### Customising the network"
   ]
  },
  {
   "cell_type": "code",
   "execution_count": null,
   "id": "91daabcc",
   "metadata": {},
   "outputs": [],
   "source": [
    "nw = gs.Network(roads)\n",
    "nw"
   ]
  },
  {
   "cell_type": "markdown",
   "id": "499e9ed9",
   "metadata": {},
   "source": [
    "If you want to manipulate the roads after instantiating the Network, you can access the GeoDataFrame in the 'gdf' attribute:"
   ]
  },
  {
   "cell_type": "code",
   "execution_count": null,
   "id": "5b2d09cb",
   "metadata": {},
   "outputs": [],
   "source": [
    "nw.gdf.head(3)"
   ]
  },
  {
   "cell_type": "markdown",
   "id": "c9429e01",
   "metadata": {},
   "source": [
    "### remove_isolated\n",
    "\n",
    "The above log file has a column called 'isolated_removed'. This is set to True because the method 'remove_isolated' was used before the analyses.\n",
    "\n",
    "Networks often consist of one large, connected network and many small, isolated \"network islands\".\n",
    "\n",
    "origins and destinations located inside these isolated networks, will have a hard time finding their way out.\n",
    "\n",
    "The large, connected network component can be found (not removed) with the method get_largest_component:"
   ]
  },
  {
   "cell_type": "code",
   "execution_count": null,
   "id": "e9945c31",
   "metadata": {},
   "outputs": [],
   "source": [
    "nw = nw.get_largest_component()\n",
    "\n",
    "# the GeoDataFrame of the network is stored in t\n",
    "nw.gdf[\"connected_str\"] = np.where(nw.gdf.connected == 1, \"connected\", \"isolated\")\n",
    "\n",
    "gs.clipmap(\n",
    "    nw.gdf,\n",
    "    points.iloc[[0]].buffer(1000),\n",
    "    column=\"connected_str\",\n",
    "    title=\"Connected and isolated networks\",\n",
    "    cmap=\"bwr\",\n",
    "    explore=False,\n",
    ")"
   ]
  },
  {
   "cell_type": "markdown",
   "id": "52181aff",
   "metadata": {},
   "source": [
    "Use the remove_isolated method to remove the unconnected roads:"
   ]
  },
  {
   "cell_type": "code",
   "execution_count": null,
   "id": "134d580d",
   "metadata": {},
   "outputs": [],
   "source": [
    "nwa = gs.NetworkAnalysis(network=nw, rules=gs.NetworkAnalysisRules(weight=\"meters\"))\n",
    "od = nwa.od_cost_matrix(points, points)\n",
    "percent_missing = od[nwa.rules.weight].isna().mean() * 100\n",
    "print(f\"Before removing isolated: {percent_missing=:.2f}\")"
   ]
  },
  {
   "cell_type": "code",
   "execution_count": null,
   "id": "d22a65ed",
   "metadata": {},
   "outputs": [],
   "source": [
    "nwa.network = nwa.network.remove_isolated()\n",
    "\n",
    "od = nwa.od_cost_matrix(points, points)\n",
    "percent_missing = od[nwa.rules.weight].isna().mean() * 100\n",
    "print(f\"After removing isolated: {percent_missing=:.2f}\")"
   ]
  },
  {
   "cell_type": "markdown",
   "id": "7170c88a",
   "metadata": {},
   "source": [
    "If the road data has some gaps between the segments, these can be filled with straight lines:"
   ]
  },
  {
   "cell_type": "code",
   "execution_count": null,
   "id": "339cae15",
   "metadata": {},
   "outputs": [],
   "source": [
    "nw = nw.close_network_holes(max_dist=1.5)  # meters\n",
    "nw"
   ]
  },
  {
   "cell_type": "markdown",
   "id": "d824a20c",
   "metadata": {},
   "source": [
    "The network analysis is done from node to node. In a service area analysis, the results will be inaccurate for long lines, since the destination will either be reached or not within the breaks. This can be fixed by cutting all lines to a maximum distance.\n",
    "\n",
    "Note: cutting the lines can take a lot of time for large networks and low cut distances."
   ]
  },
  {
   "cell_type": "code",
   "execution_count": null,
   "id": "7d8c74c1",
   "metadata": {},
   "outputs": [],
   "source": [
    "nw = nw.cut_lines(100)  # meters\n",
    "nw.gdf.length.max()"
   ]
  },
  {
   "cell_type": "markdown",
   "id": "c967c1a3",
   "metadata": {},
   "source": [
    "## DirectedNetwork"
   ]
  },
  {
   "cell_type": "markdown",
   "id": "a87437e4",
   "metadata": {},
   "source": [
    "Using the DirectedNetwork instead of the Network class, doesn't do anything to the network initially.\n",
    "\n",
    "But if we use it directly in the NetworkAnalysis, we get a warning:"
   ]
  },
  {
   "cell_type": "code",
   "execution_count": null,
   "id": "fb1951a5",
   "metadata": {},
   "outputs": [],
   "source": [
    "nw = gs.DirectedNetwork(roads)\n",
    "rules = gs.NetworkAnalysisRules(weight=\"metres\")\n",
    "nwa = gs.NetworkAnalysis(nw, rules=rules)"
   ]
  },
  {
   "cell_type": "markdown",
   "id": "4cdf50cd",
   "metadata": {},
   "source": [
    "The warning tells us that most of the lines of our network only appear once. This might be desirebla in some cases, but here it is not.\n",
    "\n",
    "To make this network correct, roads going both ways have to be duplicated and flipped. Roads going the opposite way also need to be flipped.\n",
    "\n",
    "The key here is in the 'oneway' column:"
   ]
  },
  {
   "cell_type": "code",
   "execution_count": null,
   "id": "d978ba17",
   "metadata": {},
   "outputs": [],
   "source": [
    "nw.gdf.oneway.value_counts()"
   ]
  },
  {
   "cell_type": "markdown",
   "id": "076c75bd",
   "metadata": {},
   "source": [
    "We use this to make the network bidirectional with the 'make_directed_network' method.\n",
    "\n",
    "If we want a minute column, we also have to specify how to calculate this. Here, I use the two minute columns in the data:"
   ]
  },
  {
   "cell_type": "code",
   "execution_count": null,
   "id": "c14b5a16",
   "metadata": {},
   "outputs": [],
   "source": [
    "nw.gdf[[\"oneway\", \"drivetime_fw\", \"drivetime_bw\"]].drop_duplicates(\n",
    "    \"oneway\"\n",
    ")  # dropping duplicates for illustration's sake"
   ]
  },
  {
   "cell_type": "markdown",
   "id": "12d8ddf5",
   "metadata": {},
   "source": [
    "Specify the values of the direction column in a tuple/list with the order \"both ways\", \"from/forward\", \"to/backward\"."
   ]
  },
  {
   "cell_type": "code",
   "execution_count": null,
   "id": "76dd1bb4",
   "metadata": {},
   "outputs": [],
   "source": [
    "nw = nw.make_directed_network(\n",
    "    direction_col=\"oneway\",\n",
    "    direction_vals_bft=(\"B\", \"FT\", \"TF\"),\n",
    "    minute_cols=(\"drivetime_fw\", \"drivetime_bw\"),\n",
    ")\n",
    "\n",
    "nw.gdf[\"minutes\"]"
   ]
  },
  {
   "cell_type": "markdown",
   "id": "ba6d27a8",
   "metadata": {},
   "source": [
    "You can also calculate minutes from a speed limit column. But you might want to do some manual adjusting, since keeping the speed limit at all times is unrealistic in most cases.\n",
    "\n",
    "You can set a flat speed that will be used for the entire network. Decent if the travel mode is walking, bike, boat etc."
   ]
  },
  {
   "cell_type": "code",
   "execution_count": null,
   "id": "954ea6aa",
   "metadata": {},
   "outputs": [],
   "source": [
    "nw = nw.make_directed_network(\n",
    "    direction_col=\"oneway\",\n",
    "    direction_vals_bft=(\"B\", \"FT\", \"TF\"),\n",
    "    speed_col=None,\n",
    "    flat_speed=None,\n",
    ")\n",
    "\n",
    "nw.gdf[\"minutes\"]"
   ]
  },
  {
   "cell_type": "markdown",
   "id": "1e86b323",
   "metadata": {},
   "source": [
    "## The NetworkAnalysisRules\n",
    "\n",
    "#### weight\n",
    "The weight parameter has to be specified. The weight can be the name of any numeric column in network.gdf.\n",
    "\n",
    "Or, if the weight is 'meters' or 'metres', a meter column will be created. The coordinate reference system of the network has to be meters as well."
   ]
  },
  {
   "cell_type": "code",
   "execution_count": null,
   "id": "4936f40f",
   "metadata": {},
   "outputs": [],
   "source": [
    "rules = gs.NetworkAnalysisRules(weight=\"metres\")\n",
    "gs.NetworkAnalysis(nw, rules=rules).network.gdf[\"metres\"]"
   ]
  },
  {
   "cell_type": "markdown",
   "id": "ccb0d225",
   "metadata": {},
   "source": [
    "If you want other distance units, create the column beforehand."
   ]
  },
  {
   "cell_type": "code",
   "execution_count": null,
   "id": "c2ea6a8b",
   "metadata": {},
   "outputs": [],
   "source": [
    "nw.gdf = nw.gdf.to_crs(6576).assign(feet=lambda x: x.length)\n",
    "rules = gs.NetworkAnalysisRules(weight=\"feet\")\n",
    "gs.NetworkAnalysis(nw, rules=rules).network.gdf.feet"
   ]
  },
  {
   "cell_type": "markdown",
   "id": "14dcf8b2",
   "metadata": {},
   "source": [
    "A minute column can be created through the 'make_directed_network' or 'make_directed_network_norway' methods."
   ]
  },
  {
   "cell_type": "code",
   "execution_count": null,
   "id": "7fc52a8c",
   "metadata": {},
   "outputs": [],
   "source": [
    "nw = (\n",
    "    gs.DirectedNetwork(roads)\n",
    "    .remove_isolated()\n",
    "    .make_directed_network(\n",
    "        direction_col=\"oneway\",\n",
    "        direction_vals_bft=(\"B\", \"FT\", \"TF\"),\n",
    "        minute_cols=(\"drivetime_fw\", \"drivetime_bw\"),\n",
    "    )\n",
    ")\n",
    "\n",
    "rules = gs.NetworkAnalysisRules(weight=\"minutes\")\n",
    "\n",
    "nwa = gs.NetworkAnalysis(network=nw, rules=rules)\n",
    "\n",
    "nwa"
   ]
  },
  {
   "cell_type": "markdown",
   "id": "f70fd2b6",
   "metadata": {},
   "source": [
    "### split_lines\n",
    "\n",
    "By default, the origins and destinations are connected to the closest nodes of the network:"
   ]
  },
  {
   "cell_type": "code",
   "execution_count": null,
   "id": "df5c3847",
   "metadata": {},
   "outputs": [],
   "source": [
    "nwa.rules.split_lines"
   ]
  },
  {
   "cell_type": "markdown",
   "id": "df3fd8ae",
   "metadata": {},
   "source": [
    "By setting 'split_lines' to True, the line closest to each point will be split in two where the point is closest to the line. The points can then start their travels in the middle of lines. This makes things more accurate, but it takes a little more time.\n",
    "\n",
    "The split lines stays with the network until it is re-instantiated.\n",
    "\n",
    "Splitting the lines will have a larger effect if the lines in the network are long, and/or if the distances to be calculated are short.\n",
    "\n",
    "In this road network, most lines are short enough that splitting the lines usually doesn't do much. The longest lines are all in the forest."
   ]
  },
  {
   "cell_type": "code",
   "execution_count": null,
   "id": "1d2c668a",
   "metadata": {},
   "outputs": [],
   "source": [
    "nwa.network.gdf.length.describe()"
   ]
  },
  {
   "cell_type": "markdown",
   "id": "049ac0e4",
   "metadata": {},
   "source": [
    "It has a minimal impact on the results. Here comes one example (get_route) and the average travel minutes (od_cost_matrix)."
   ]
  },
  {
   "cell_type": "code",
   "execution_count": null,
   "id": "66732e2f",
   "metadata": {},
   "outputs": [],
   "source": [
    "nwa.rules.search_factor = 0\n",
    "\n",
    "nwa.rules.split_lines = False\n",
    "\n",
    "od = nwa.od_cost_matrix(points, points)\n",
    "sp1 = nwa.get_route(points.iloc[[97]], points.iloc[[135]])\n",
    "sp1[\"split_lines\"] = \"Not splitted\"\n",
    "\n",
    "nwa.rules.split_lines = True\n",
    "\n",
    "od = nwa.od_cost_matrix(points, points)\n",
    "sp2 = nwa.get_route(points.iloc[[97]], points.iloc[[135]])\n",
    "sp2[\"split_lines\"] = \"Splitted\""
   ]
  },
  {
   "cell_type": "markdown",
   "id": "ae1f6f2c",
   "metadata": {},
   "source": [
    "In the get_route example, when the lines are split, the trip starts a bit further up in the bottom-right corner (when the search_factor is 0). The trip also ends in a roundtrip, since the line that is split is a oneway street. So you're allowed to go to the intersection where the blue line goes, but not to the point where the line is cut."
   ]
  },
  {
   "cell_type": "code",
   "execution_count": null,
   "id": "491035b6",
   "metadata": {},
   "outputs": [],
   "source": [
    "gs.qtm(gs.gdf_concat([sp1, sp2]), column=\"split_lines\", cmap=\"bwr\")"
   ]
  },
  {
   "cell_type": "markdown",
   "id": "8eb54c90",
   "metadata": {},
   "source": [
    "But these kinds of deviations doesn't have much of an impact on the results in total here, where the mean is about 15 minutes. For shorter trips, the difference will be relatively larger, of course."
   ]
  },
  {
   "cell_type": "code",
   "execution_count": null,
   "id": "f6cf11ea",
   "metadata": {},
   "outputs": [],
   "source": [
    "nwa.log.loc[\n",
    "    nwa.log.function == \"od_cost_matrix\",\n",
    "    [\"split_lines\", \"cost_mean\", \"cost_p25\", \"cost_median\", \"cost_p75\", \"cost_std\"],\n",
    "]"
   ]
  },
  {
   "cell_type": "code",
   "execution_count": null,
   "id": "618f1ddc",
   "metadata": {},
   "outputs": [],
   "source": [
    "nwa.rules.split_lines = False"
   ]
  },
  {
   "cell_type": "markdown",
   "id": "afc395bb",
   "metadata": {},
   "source": [
    "\n",
    "If the point is located in the middle of a very long line, it has to travel all the way to the end of the line and then, half the time, traverse the whole line."
   ]
  },
  {
   "cell_type": "markdown",
   "id": "7d419ae3",
   "metadata": {},
   "source": [
    "\n",
    "#### search_factor\n",
    "Since the closest node might be intraversable, the points are connected to all nodes within a given search_factor. The default is 10, which means that 10 meters and 10 percent is added to the closest distance to a node.\n",
    "\n",
    "So if the closest node is 1 meter away, the point will be connected to all nodes within 11.1 meters.\n",
    "\n",
    "If the closest node is 100 meters away, the point will be connected to all nodes within 120 meters.\n",
    "\n",
    "And 0 means that only the closest node will be used.\n",
    "\n",
    "Let's check how the search_factor influences the number of missing values:"
   ]
  },
  {
   "cell_type": "code",
   "execution_count": null,
   "id": "74ef03ae",
   "metadata": {},
   "outputs": [],
   "source": [
    "for search_factor in [0, 10, 50, 100]:\n",
    "    nwa.rules.search_factor = search_factor\n",
    "    od = nwa.od_cost_matrix(points, points)\n",
    "\n",
    "nwa.rules.search_factor = 10  # back to default\n",
    "\n",
    "nwa.log.iloc[-4:][[\"search_factor\", \"percent_missing\"]]"
   ]
  },
  {
   "cell_type": "markdown",
   "id": "70258f20",
   "metadata": {},
   "source": [
    "The remaining missing points are far away from the network. It might not be desirable to get results for these points. But if it is, it can be done with the search_tolerance parameter."
   ]
  },
  {
   "cell_type": "markdown",
   "id": "b983cba1",
   "metadata": {},
   "source": [
    "#### search_tolerance\n",
    "search_tolerance is the maximum distance a start- or destination can be from the network. If the closest node is above the search_tolerance, this point will not be eligable for the analysis.\n",
    "\n",
    "The default is:"
   ]
  },
  {
   "cell_type": "code",
   "execution_count": null,
   "id": "ebb4cb41",
   "metadata": {},
   "outputs": [],
   "source": [
    "rules.search_tolerance"
   ]
  },
  {
   "cell_type": "markdown",
   "id": "fb10c8dc",
   "metadata": {},
   "source": [
    "The search_tolerance unit is meters if the units of the crs is meters, which it is in this case:"
   ]
  },
  {
   "cell_type": "code",
   "execution_count": null,
   "id": "3efd580a",
   "metadata": {},
   "outputs": [],
   "source": [
    "nw.gdf.crs.axis_info[0].unit_name"
   ]
  },
  {
   "cell_type": "markdown",
   "id": "ae19c012",
   "metadata": {},
   "source": [
    "Let's check how the search_tolerance influences the number of missing values:"
   ]
  },
  {
   "cell_type": "code",
   "execution_count": null,
   "id": "b83dce61",
   "metadata": {},
   "outputs": [],
   "source": [
    "for search_tolerance in [100, 250, 500, 5_000]:\n",
    "    nwa.rules.search_tolerance = search_tolerance\n",
    "    od = nwa.od_cost_matrix(points, points)\n",
    "\n",
    "nwa.log.iloc[-4:][[\"search_tolerance\", \"percent_missing\"]]"
   ]
  },
  {
   "cell_type": "markdown",
   "id": "b98b998e",
   "metadata": {},
   "source": [
    "The remaining 0.2 percent are two points trapped behind oneway streets going the wrong way. A high search_tolerance won't help here, since the points are only connected to the closest node and the nodes within the search_factor. So the fix here (if a fix is desirable), is a higher search_tolerance (see above), but this will give more inaccurate results for the rest of the points. So consider using strict rules at first, then loosen up for only the points that give you problems."
   ]
  },
  {
   "cell_type": "code",
   "execution_count": null,
   "id": "2f54a91a",
   "metadata": {},
   "outputs": [],
   "source": [
    "nwa.rules.search_factor = 100\n",
    "\n",
    "od = nwa.od_cost_matrix(points, points)\n",
    "\n",
    "nwa.log.iloc[[-1]][[\"search_tolerance\", \"percent_missing\"]]"
   ]
  },
  {
   "cell_type": "code",
   "execution_count": null,
   "id": "7f7c1590",
   "metadata": {},
   "outputs": [],
   "source": [
    "# back to default:\n",
    "nwa.rules.search_tolerance = 250\n",
    "nwa.rules.search_factor = 10"
   ]
  },
  {
   "cell_type": "markdown",
   "id": "1824f395",
   "metadata": {},
   "source": [
    "Note: one of the points that had all missing values at a search_tolerance of 500, is on an island without a car ferry (but a regular ferry). With a search_tolerance of 5000, trips from this point will originate at the mainland with 0 weight penalty. If you want to include trips like this, it might be a good idea to give a weight for the trip to the mainland. this can be done with one of the 'weight_to_nodes_' parameters."
   ]
  },
  {
   "cell_type": "markdown",
   "id": "2fa51552",
   "metadata": {},
   "source": [
    "#### weight_to_nodes_\n",
    "The class has three 'weight_to_nodes_' parameters. This is about the cost between the origins and destinations and the network nodes. All three paramters are set to False or None by default, meaning the cost will be 0.\n",
    "\n",
    "This will produce inaccurate results for points that are far away from the network. Especially when the search_factor is high.\n",
    "\n",
    "Therefore, you can set one of the 'weight_to_nodes_' parameters. If the weight is 'meters' (i.e. the length unit of the crs), setting 'weight_to_nodes_dist' to True will make the weight equivelant to the straight-line distance:"
   ]
  },
  {
   "cell_type": "code",
   "execution_count": null,
   "id": "eab8e65a",
   "metadata": {},
   "outputs": [],
   "source": [
    "gs.NetworkAnalysisRules(weight=\"meters\", weight_to_nodes_dist=True)"
   ]
  },
  {
   "cell_type": "markdown",
   "id": "c086eb6c",
   "metadata": {},
   "source": [
    "If the weight is \"minutes\", you specify the speed in kilometers or miles per hour:"
   ]
  },
  {
   "cell_type": "code",
   "execution_count": null,
   "id": "546a474e",
   "metadata": {},
   "outputs": [],
   "source": [
    "gs.NetworkAnalysisRules(weight=\"minutes\", weight_to_nodes_kmh=5)"
   ]
  },
  {
   "cell_type": "code",
   "execution_count": null,
   "id": "3be254f2",
   "metadata": {},
   "outputs": [],
   "source": [
    "gs.NetworkAnalysisRules(weight=\"minutes\", weight_to_nodes_mph=3)"
   ]
  },
  {
   "cell_type": "markdown",
   "id": "b14f9e7e",
   "metadata": {},
   "source": [
    "Let's check how the speed to the nodes influences the average speed:"
   ]
  },
  {
   "cell_type": "code",
   "execution_count": null,
   "id": "df86ce04",
   "metadata": {},
   "outputs": [],
   "source": [
    "for weight_to_nodes_kmh in [5, 20, 50, 0]:\n",
    "    nwa.rules.weight_to_nodes_kmh = weight_to_nodes_kmh\n",
    "    od = nwa.od_cost_matrix(points, points)\n",
    "\n",
    "nwa.log.iloc[-4:][[\"weight_to_nodes_kmh\", \"cost_mean\"]]"
   ]
  }
 ],
 "metadata": {
  "jupytext": {
   "cell_metadata_filter": "-all",
   "main_language": "python",
   "notebook_metadata_filter": "jupytext.text_representation,-jupytext.text_representation.jupytext_version,-widgets,-varInspector,-kernelspec"
  }
 },
 "nbformat": 4,
 "nbformat_minor": 5
}
