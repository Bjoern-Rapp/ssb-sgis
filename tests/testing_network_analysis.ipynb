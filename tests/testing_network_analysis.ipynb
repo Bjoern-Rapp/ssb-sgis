{
 "cells": [
  {
   "cell_type": "code",
   "execution_count": null,
   "metadata": {},
   "outputs": [],
   "source": [
    "import geopandas as gpd\n",
    "\n",
    "import os\n",
    "\n",
    "while \"networkz\" not in os.listdir():\n",
    "    os.chdir(\"../\")\n",
    "\n",
    "import networkz as nz\n",
    "\n",
    "nz.__version__"
   ]
  },
  {
   "cell_type": "code",
   "execution_count": null,
   "metadata": {},
   "outputs": [],
   "source": [
    "punkter = nz.les_geopandas(\n",
    "    f\"C:/Users/ort/OneDrive - Statistisk sentralbyrå/data/tilfeldige_adresser_1000.parquet\"\n",
    ")\n",
    "\n",
    "G = nz.Graf()\n",
    "G"
   ]
  },
  {
   "cell_type": "code",
   "execution_count": null,
   "metadata": {},
   "outputs": [],
   "source": [
    "display(punkter.head(3))\n",
    "punkter = punkter.to_crs(25832)\n",
    "od = G.od_cost_matrix(\n",
    "    startpunkter=punkter.sample(5), sluttpunkter=punkter.sample(5), id_kolonne=\"idx\"\n",
    ")\n",
    "assert punkter.crs == 25832\n",
    "od = G.od_cost_matrix(\n",
    "    startpunkter=punkter.sample(5), sluttpunkter=punkter.sample(5), id_kolonne=None\n",
    ")\n",
    "od = G.od_cost_matrix(\n",
    "    startpunkter=punkter.sample(5), sluttpunkter=punkter.sample(5), id_kolonne=False\n",
    ")\n",
    "od = G.od_cost_matrix(\n",
    "    startpunkter=punkter.sample(5), sluttpunkter=punkter.sample(5), id_kolonne=0\n",
    ")\n",
    "display(od.head(1))\n",
    "\n",
    "assert \"idx\" in punkter.columns\n",
    "\n",
    "od = G.od_cost_matrix(\n",
    "    startpunkter=punkter.sample(5),\n",
    "    sluttpunkter=punkter.sample(5),\n",
    "    id_kolonne=(\"idx\", \"idx\"),\n",
    ")\n",
    "od = G.od_cost_matrix(\n",
    "    startpunkter=punkter.sample(5),\n",
    "    sluttpunkter=punkter.sample(5),\n",
    "    id_kolonne=(\"idx\", \"idx\"),\n",
    ")\n",
    "od = G.od_cost_matrix(\n",
    "    startpunkter=punkter.sample(5),\n",
    "    sluttpunkter=punkter.sample(5),\n",
    "    id_kolonne=(\"idx\", \"idx\"),\n",
    ")\n",
    "display(od.head(1))\n",
    "\n",
    "od = G.od_cost_matrix(\n",
    "    startpunkter=punkter.sample(5),\n",
    "    sluttpunkter=punkter.sample(5),\n",
    "    id_kolonne=[\"idx\", \"idx\"],\n",
    ")\n",
    "od = G.od_cost_matrix(\n",
    "    startpunkter=punkter.sample(5),\n",
    "    sluttpunkter=punkter.sample(5),\n",
    "    id_kolonne=[\"idx\", \"idx\"],\n",
    ")\n",
    "od = G.od_cost_matrix(\n",
    "    startpunkter=punkter.sample(5),\n",
    "    sluttpunkter=punkter.sample(5),\n",
    "    id_kolonne=[\"idx\", \"idx\"],\n",
    ")\n",
    "display(od.head(1))\n",
    "display(punkter.head(3))\n",
    "\n",
    "assert \"idx\" in punkter.columns\n",
    "assert punkter.crs == 25832\n",
    "punkter = punkter.to_crs(25833)"
   ]
  },
  {
   "cell_type": "code",
   "execution_count": null,
   "metadata": {},
   "outputs": [],
   "source": [
    "G = nz.Graf()\n",
    "nett = G.nettverk\n",
    "nett.loc[nett.isolert != 0, \"isolert\"] = 1\n",
    "nett.sjoin(nz.til_gdf(punkter.buffer(1000).iloc[0], crs=25833)).plot(\n",
    "    \"isolert\", cmap=\"bwr\"\n",
    ")"
   ]
  },
  {
   "cell_type": "code",
   "execution_count": null,
   "metadata": {},
   "outputs": [],
   "source": [
    "korteste_ruter = G.shortest_path(\n",
    "    startpunkter=punkter.sample(10), sluttpunkter=punkter.sample(10), id_kolonne=\"idx\"\n",
    ")\n",
    "korteste_ruter.plot()\n",
    "korteste_ruter"
   ]
  },
  {
   "cell_type": "code",
   "execution_count": null,
   "metadata": {},
   "outputs": [],
   "source": [
    "relevante_veglenker = G.shortest_path(\n",
    "    startpunkter=punkter.sample(10), sluttpunkter=punkter.sample(10), tell_opp=True\n",
    ")\n",
    "\n",
    "import matplotlib.pyplot as plt\n",
    "\n",
    "fig, ax = plt.subplots(1, figsize=(15, 15))\n",
    "ax.set_axis_off()\n",
    "ax.set_title(\"Antall ganger hver veglenke ble brukt\", fontsize=18)\n",
    "relevante_veglenker[\"geometry\"] = relevante_veglenker.buffer(20)\n",
    "relevante_veglenker.plot(\n",
    "    \"antall\", scheme=\"NaturalBreaks\", cmap=\"RdPu\", k=7, legend=True, alpha=0.8, ax=ax\n",
    ")"
   ]
  },
  {
   "cell_type": "code",
   "execution_count": null,
   "metadata": {},
   "outputs": [],
   "source": [
    "korteste_ruter = G.shortest_path(\n",
    "    startpunkter=punkter.sample(10),\n",
    "    sluttpunkter=punkter.sample(10),\n",
    "    id_kolonne=\"idx\",\n",
    "    radvis=True,\n",
    ")\n",
    "korteste_ruter"
   ]
  },
  {
   "cell_type": "code",
   "execution_count": null,
   "metadata": {},
   "outputs": [],
   "source": [
    "od = G.od_cost_matrix(\n",
    "    startpunkter=punkter,\n",
    "    sluttpunkter=punkter,\n",
    "    id_kolonne=\"idx\",\n",
    ")\n",
    "od"
   ]
  },
  {
   "cell_type": "code",
   "execution_count": null,
   "metadata": {},
   "outputs": [],
   "source": [
    "od = G.od_cost_matrix(\n",
    "    startpunkter=punkter.sample(1), sluttpunkter=punkter, id_kolonne=\"idx\", linjer=True\n",
    ")\n",
    "\n",
    "od.plot(\"minutter\", scheme=\"Quantiles\")"
   ]
  },
  {
   "cell_type": "code",
   "execution_count": null,
   "metadata": {},
   "outputs": [],
   "source": [
    "od = G.od_cost_matrix(\n",
    "    startpunkter=punkter.sample(10),\n",
    "    sluttpunkter=punkter.sample(10),\n",
    "    id_kolonne=\"idx\",\n",
    "    radvis=True,\n",
    ")\n",
    "od"
   ]
  },
  {
   "cell_type": "code",
   "execution_count": null,
   "metadata": {},
   "outputs": [],
   "source": [
    "od = G.od_cost_matrix(\n",
    "    startpunkter=punkter.sample(10),\n",
    "    sluttpunkter=punkter.sample(10),\n",
    "    id_kolonne=\"idx\",\n",
    "    destination_count=1,\n",
    ")\n",
    "od"
   ]
  },
  {
   "cell_type": "code",
   "execution_count": null,
   "metadata": {},
   "outputs": [],
   "source": [
    "od = G.od_cost_matrix(\n",
    "    startpunkter=punkter, sluttpunkter=punkter, id_kolonne=\"idx\", cutoff=5\n",
    ")\n",
    "od"
   ]
  },
  {
   "cell_type": "code",
   "execution_count": null,
   "metadata": {},
   "outputs": [],
   "source": [
    "G.kostnad = [\"minutter\", \"meter\"]\n",
    "\n",
    "od = G.od_cost_matrix(startpunkter=punkter, sluttpunkter=punkter, id_kolonne=\"idx\")\n",
    "G.kostnad = \"minutter\"\n",
    "od"
   ]
  },
  {
   "cell_type": "code",
   "execution_count": null,
   "metadata": {},
   "outputs": [],
   "source": [
    "service_areas = G.service_area(\n",
    "    startpunkter=punkter.sample(5),\n",
    "    impedance=5,  # antall minutter/meter\n",
    "    id_kolonne=\"idx\",\n",
    ")\n",
    "service_areas.plot()\n",
    "service_areas"
   ]
  },
  {
   "cell_type": "code",
   "execution_count": null,
   "metadata": {},
   "outputs": [],
   "source": [
    "service_areas = G.service_area(\n",
    "    startpunkter=punkter.sample(1),\n",
    "    impedance=[10, 9, 8, 7, 6, 5, 4, 3, 2, 1],  # antall minutter/meter/annet\n",
    "    id_kolonne=\"idx\",\n",
    ")\n",
    "service_areas.plot(G.kostnad)"
   ]
  },
  {
   "cell_type": "code",
   "execution_count": null,
   "metadata": {},
   "outputs": [],
   "source": [
    "import pandas as pd\n",
    "\n",
    "resultater = pd.DataFrame()\n",
    "for kjoretoy in [\"fot\", \"sykkel\", \"bil\"]:\n",
    "    G = nz.Graf(kjoretoy=kjoretoy, kostnad=[\"minutter\", \"meter\"], kommuner=\"0301\")\n",
    "\n",
    "    od = G.od_cost_matrix(\n",
    "        startpunkter=punkter.sample(10),\n",
    "        sluttpunkter=punkter.sample(10),\n",
    "        id_kolonne=\"idx\",\n",
    "    )\n",
    "\n",
    "    od[\"kjoretoy\"] = kjoretoy\n",
    "\n",
    "    resultater = pd.concat([resultater, od], ignore_index=True)\n",
    "\n",
    "resultater[\"km\"] = resultater.meter / 1000\n",
    "resultater[\"km_t\"] = (resultater.meter / 1000) / (resultater.minutter / 60)\n",
    "\n",
    "gruppert = resultater.groupby(\"kjoretoy\").agg(\n",
    "    minutter_mean=(\"minutter\", \"mean\"),\n",
    "    km_mean=(\"km\", \"mean\"),\n",
    "    km_t_mean=(\"km_t\", \"mean\"),\n",
    ")\n",
    "gruppert"
   ]
  },
  {
   "cell_type": "code",
   "execution_count": null,
   "metadata": {},
   "outputs": [],
   "source": [
    "from shapely.wkt import loads\n",
    "\n",
    "storo = gpd.GeoDataFrame(\n",
    "    {\"geometry\": gpd.GeoSeries(loads(\"POINT (10.7777979 59.9451632)\"))}, crs=4326\n",
    ").to_crs(25833)\n",
    "storo[\"idx\"] = \"storo\"\n",
    "grefsenkollen = gpd.GeoDataFrame(\n",
    "    {\"geometry\": gpd.GeoSeries(loads(\"POINT (10.8038165 59.9590036)\"))}, crs=4326\n",
    ").to_crs(25833)\n",
    "grefsenkollen[\"idx\"] = \"grefsenkollen\"\n",
    "\n",
    "G = nz.Graf(kjoretoy=\"sykkel\")\n",
    "\n",
    "oppover = G.shortest_path(\n",
    "    startpunkter=storo, sluttpunkter=grefsenkollen, id_kolonne=\"idx\"\n",
    ")\n",
    "nedover = G.shortest_path(\n",
    "    startpunkter=grefsenkollen, sluttpunkter=storo, id_kolonne=\"idx\"\n",
    ")\n",
    "nz.gdf_concat([oppover, nedover])"
   ]
  },
  {
   "cell_type": "code",
   "execution_count": null,
   "metadata": {},
   "outputs": [],
   "source": [
    "G = nz.Graf(kjoretoy=\"sykkel\", kostnad=\"minutter\")\n",
    "med_sykkel = G.shortest_path(\n",
    "    startpunkter=storo, sluttpunkter=grefsenkollen, id_kolonne=\"idx\"\n",
    ")\n",
    "med_sykkel[\"hva\"] = \"sykkel\"\n",
    "\n",
    "G = nz.Graf(kjoretoy=\"fot\", kostnad=\"minutter\")\n",
    "til_fots = G.shortest_path(\n",
    "    startpunkter=storo, sluttpunkter=grefsenkollen, id_kolonne=\"idx\"\n",
    ")\n",
    "til_fots[\"hva\"] = \"fot\"\n",
    "\n",
    "begge = nz.gdf_concat([med_sykkel, til_fots])\n",
    "begge.plot(\"hva\", cmap=\"bwr\")\n",
    "begge"
   ]
  },
  {
   "cell_type": "code",
   "execution_count": null,
   "metadata": {},
   "outputs": [],
   "source": [
    "from shapely.wkt import loads\n",
    "\n",
    "akersveien = gpd.GeoDataFrame(\n",
    "    {\"geometry\": gpd.GeoSeries(loads(\"POINT (10.7476913 59.9222196)\"))}, crs=4326\n",
    ").to_crs(25833)\n",
    "akersveien[\"geometry\"] = akersveien.buffer(500)\n",
    "punkter_rundt_akersveien = punkter.sjoin(akersveien)\n",
    "\n",
    "resultater = pd.DataFrame()\n",
    "for kjoretoy in [\"fot\", \"sykkel\"]:\n",
    "    G = nz.Graf(kjoretoy=kjoretoy, kostnad=\"minutter\", kommuner=\"0301\")\n",
    "\n",
    "    korteste_ruter = G.shortest_path(\n",
    "        startpunkter=punkter_rundt_akersveien,\n",
    "        sluttpunkter=punkter_rundt_akersveien,\n",
    "        id_kolonne=\"idx\",\n",
    "    )\n",
    "\n",
    "    korteste_ruter[\"kjoretoy\"] = kjoretoy\n",
    "\n",
    "    resultater = gpd.GeoDataFrame(\n",
    "        pd.concat([resultater, korteste_ruter], axis=0, ignore_index=True),\n",
    "        geometry=\"geometry\",\n",
    "        crs=25833,\n",
    "    )\n",
    "\n",
    "resultater.plot(\"kjoretoy\", cmap=\"bwr\")"
   ]
  },
  {
   "attachments": {},
   "cell_type": "markdown",
   "metadata": {},
   "source": [
    "### lag_nettverk"
   ]
  },
  {
   "cell_type": "code",
   "execution_count": null,
   "metadata": {},
   "outputs": [],
   "source": [
    "veger = gpd.read_parquet(\n",
    "    r\"C:\\Users\\ort\\OneDrive - Statistisk sentralbyrå\\data\\vegdata\\veger_oslo_og_naboer_2022.parquet\"\n",
    ")"
   ]
  },
  {
   "cell_type": "code",
   "execution_count": null,
   "metadata": {},
   "outputs": [],
   "source": [
    "nettverk = nz.lag_nettverk(veger)\n",
    "\n",
    "G = nz.Graf(nettverk=nettverk)\n",
    "G.nettverk.head()"
   ]
  },
  {
   "cell_type": "code",
   "execution_count": null,
   "metadata": {},
   "outputs": [],
   "source": [
    "def test_nettverk(G, punkter, kostnad):\n",
    "    nett = G.nettverk\n",
    "    nett.loc[nett.isolert != 0, \"isolert\"] = 1\n",
    "    nett.sjoin(nz.til_gdf(punkter.buffer(1000).iloc[0], crs=25833)).plot(\n",
    "        \"isolert\", cmap=\"bwr\"\n",
    "    )\n",
    "\n",
    "    korteste_ruter = G.shortest_path(\n",
    "        startpunkter=punkter.sample(35),\n",
    "        sluttpunkter=punkter.sample(35),\n",
    "        id_kolonne=\"idx\",\n",
    "    )\n",
    "    korteste_ruter.plot()\n",
    "\n",
    "    od = G.od_cost_matrix(\n",
    "        startpunkter=punkter.sample(1),\n",
    "        sluttpunkter=punkter,\n",
    "        id_kolonne=\"idx\",\n",
    "        linjer=True,\n",
    "    )\n",
    "    od.plot(G.kostnad, scheme=\"quantiles\")\n",
    "\n",
    "    if kostnad == \"minutter\":\n",
    "        impedance = (7.5, 6, 4, 2.5, 1)\n",
    "    else:\n",
    "        impedance = (3000, 2000, 1000, 500, 200)\n",
    "\n",
    "    service_area = G.service_area(\n",
    "        startpunkter=punkter.sample(5), impedance=impedance, id_kolonne=\"idx\"\n",
    "    )\n",
    "    service_area.plot(G.kostnad)\n",
    "\n",
    "    display(od)"
   ]
  },
  {
   "cell_type": "code",
   "execution_count": null,
   "metadata": {},
   "outputs": [],
   "source": [
    "test_nettverk(G, punkter, \"minutter\")"
   ]
  },
  {
   "cell_type": "code",
   "execution_count": null,
   "metadata": {},
   "outputs": [],
   "source": [
    "nettverk = nz.lag_nettverk(veger[[\"geometry\"]])\n",
    "G = nz.Graf(nettverk=nettverk, kostnad=\"meter\", directed=False)\n",
    "G.nettverk.head()"
   ]
  },
  {
   "cell_type": "code",
   "execution_count": null,
   "metadata": {},
   "outputs": [],
   "source": [
    "test_nettverk(G, punkter, \"meter\")"
   ]
  },
  {
   "cell_type": "code",
   "execution_count": null,
   "metadata": {},
   "outputs": [],
   "source": [
    "import pandas as pd\n",
    "\n",
    "utvalg = punkter.sample(150)\n",
    "resultater = pd.DataFrame()\n",
    "for kjoretoy in [\"bil\", \"sykkel\", \"fot\"]:\n",
    "    G = nz.Graf(kjoretoy=kjoretoy, kommuner=\"0301\")\n",
    "\n",
    "    mest_brukte_gater = G.shortest_path(\n",
    "        startpunkter=utvalg, sluttpunkter=utvalg, tell_opp=True\n",
    "    )\n",
    "\n",
    "    mest_brukte_gater[\"geometry\"] = mest_brukte_gater.buffer(7)\n",
    "    import matplotlib.pyplot as plt\n",
    "\n",
    "    fig, ax = plt.subplots(1, figsize=(10, 10))\n",
    "    ax.set_axis_off()\n",
    "    ax.set_title(f\"Antall ganger brukt. Kjøretøy: {kjoretoy}\", fontsize=16)\n",
    "    mest_brukte_gater.plot(\n",
    "        \"antall\", scheme=\"NaturalBreaks\", cmap=\"RdPu\", k=7, legend=True, alpha=1, ax=ax\n",
    "    )"
   ]
  },
  {
   "cell_type": "code",
   "execution_count": null,
   "metadata": {},
   "outputs": [],
   "source": []
  }
 ],
 "metadata": {
  "language_info": {
   "codemirror_mode": {
    "name": "ipython"
   },
   "file_extension": ".py",
   "mimetype": "text/x-python",
   "name": "python",
   "nbconvert_exporter": "python"
  },
  "vscode": {
   "interpreter": {
    "hash": "d0bcc4652e48e4b09cdc044a4ad1497622febd4016e00c4a496b6ef4232df7eb"
   }
  }
 },
 "nbformat": 4,
 "nbformat_minor": 2
}
